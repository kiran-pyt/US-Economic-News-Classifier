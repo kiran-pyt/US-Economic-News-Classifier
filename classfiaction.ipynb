{
 "cells": [
  {
   "cell_type": "code",
   "execution_count": 74,
   "metadata": {},
   "outputs": [
    {
     "name": "stderr",
     "output_type": "stream",
     "text": [
      "[nltk_data] Downloading package punkt to\n",
      "[nltk_data]     C:\\Users\\baru.chandra\\AppData\\Roaming\\nltk_data...\n",
      "[nltk_data]   Package punkt is already up-to-date!\n",
      "[nltk_data] Downloading package wordnet to\n",
      "[nltk_data]     C:\\Users\\baru.chandra\\AppData\\Roaming\\nltk_data...\n",
      "[nltk_data]   Package wordnet is already up-to-date!\n",
      "[nltk_data] Downloading package stopwords to\n",
      "[nltk_data]     C:\\Users\\baru.chandra\\AppData\\Roaming\\nltk_data...\n",
      "[nltk_data]   Package stopwords is already up-to-date!\n"
     ]
    },
    {
     "data": {
      "text/plain": [
       "True"
      ]
     },
     "execution_count": 74,
     "metadata": {},
     "output_type": "execute_result"
    }
   ],
   "source": [
    "import pandas as pd\n",
    "import numpy as np\n",
    "from matplotlib import pyplot as plt\n",
    "import plotly.graph_objects as go\n",
    "import seaborn as sns\n",
    "import string\n",
    "from collections import Counter\n",
    "from bs4 import BeautifulSoup\n",
    "import re\n",
    "import string\n",
    "import nltk\n",
    "from nltk.corpus import stopwords\n",
    "from sklearn.feature_extraction.text import TfidfVectorizer,CountVectorizer,HashingVectorizer\n",
    "\n",
    "from sklearn.naive_bayes import MultinomialNB\n",
    "from sklearn.naive_bayes import GaussianNB\n",
    "from sklearn.linear_model import LogisticRegression\n",
    "from sklearn.svm import LinearSVC\n",
    "from sklearn.metrics import accuracy_score\n",
    "import sklearn.metrics as metrics\n",
    "from sklearn.model_selection import train_test_split\n",
    "from sklearn.metrics import confusion_matrix \n",
    "from sklearn.metrics import classification_report\n",
    "import pandas as pd\n",
    "import nltk\n",
    "from nltk.corpus import stopwords\n",
    "from nltk.stem import WordNetLemmatizer\n",
    "# Download necessary NLTK resources if you haven't already\n",
    "nltk.download('punkt')\n",
    "nltk.download('wordnet')\n",
    "nltk.download('stopwords')"
   ]
  },
  {
   "cell_type": "code",
   "execution_count": 75,
   "metadata": {},
   "outputs": [],
   "source": [
    "df=pd.read_csv(r\"US-Economic-News.csv\",encoding='ISO-8859-1')"
   ]
  },
  {
   "cell_type": "code",
   "execution_count": 76,
   "metadata": {},
   "outputs": [
    {
     "data": {
      "text/html": [
       "<div>\n",
       "<style scoped>\n",
       "    .dataframe tbody tr th:only-of-type {\n",
       "        vertical-align: middle;\n",
       "    }\n",
       "\n",
       "    .dataframe tbody tr th {\n",
       "        vertical-align: top;\n",
       "    }\n",
       "\n",
       "    .dataframe thead th {\n",
       "        text-align: right;\n",
       "    }\n",
       "</style>\n",
       "<table border=\"1\" class=\"dataframe\">\n",
       "  <thead>\n",
       "    <tr style=\"text-align: right;\">\n",
       "      <th></th>\n",
       "      <th>_unit_id</th>\n",
       "      <th>_golden</th>\n",
       "      <th>_unit_state</th>\n",
       "      <th>_trusted_judgments</th>\n",
       "      <th>_last_judgment_at</th>\n",
       "      <th>positivity</th>\n",
       "      <th>positivity:confidence</th>\n",
       "      <th>relevance</th>\n",
       "      <th>relevance:confidence</th>\n",
       "      <th>articleid</th>\n",
       "      <th>date</th>\n",
       "      <th>headline</th>\n",
       "      <th>positivity_gold</th>\n",
       "      <th>relevance_gold</th>\n",
       "      <th>text</th>\n",
       "    </tr>\n",
       "  </thead>\n",
       "  <tbody>\n",
       "    <tr>\n",
       "      <th>0</th>\n",
       "      <td>842613455</td>\n",
       "      <td>False</td>\n",
       "      <td>finalized</td>\n",
       "      <td>3</td>\n",
       "      <td>12/5/15 17:48</td>\n",
       "      <td>3.0</td>\n",
       "      <td>0.6400</td>\n",
       "      <td>yes</td>\n",
       "      <td>0.640</td>\n",
       "      <td>wsj_398217788</td>\n",
       "      <td>8/14/91</td>\n",
       "      <td>Yields on CDs Fell in the Latest Week</td>\n",
       "      <td>NaN</td>\n",
       "      <td>NaN</td>\n",
       "      <td>NEW YORK -- Yields on most certificates of dep...</td>\n",
       "    </tr>\n",
       "    <tr>\n",
       "      <th>1</th>\n",
       "      <td>842613456</td>\n",
       "      <td>False</td>\n",
       "      <td>finalized</td>\n",
       "      <td>3</td>\n",
       "      <td>12/5/15 16:54</td>\n",
       "      <td>NaN</td>\n",
       "      <td>NaN</td>\n",
       "      <td>no</td>\n",
       "      <td>1.000</td>\n",
       "      <td>wsj_399019502</td>\n",
       "      <td>8/21/07</td>\n",
       "      <td>The Morning Brief: White House Seeks to Limit ...</td>\n",
       "      <td>NaN</td>\n",
       "      <td>NaN</td>\n",
       "      <td>The Wall Street Journal Online&lt;/br&gt;&lt;/br&gt;The Mo...</td>\n",
       "    </tr>\n",
       "    <tr>\n",
       "      <th>2</th>\n",
       "      <td>842613457</td>\n",
       "      <td>False</td>\n",
       "      <td>finalized</td>\n",
       "      <td>3</td>\n",
       "      <td>12/5/15 1:59</td>\n",
       "      <td>NaN</td>\n",
       "      <td>NaN</td>\n",
       "      <td>no</td>\n",
       "      <td>1.000</td>\n",
       "      <td>wsj_398284048</td>\n",
       "      <td>11/14/91</td>\n",
       "      <td>Banking Bill Negotiators Set Compromise --- Pl...</td>\n",
       "      <td>NaN</td>\n",
       "      <td>NaN</td>\n",
       "      <td>WASHINGTON -- In an effort to achieve banking ...</td>\n",
       "    </tr>\n",
       "    <tr>\n",
       "      <th>3</th>\n",
       "      <td>842613458</td>\n",
       "      <td>False</td>\n",
       "      <td>finalized</td>\n",
       "      <td>3</td>\n",
       "      <td>12/5/15 2:19</td>\n",
       "      <td>NaN</td>\n",
       "      <td>0.0000</td>\n",
       "      <td>no</td>\n",
       "      <td>0.675</td>\n",
       "      <td>wsj_397959018</td>\n",
       "      <td>6/16/86</td>\n",
       "      <td>Manager's Journal: Sniffing Out Drug Abusers I...</td>\n",
       "      <td>NaN</td>\n",
       "      <td>NaN</td>\n",
       "      <td>The statistics on the enormous costs of employ...</td>\n",
       "    </tr>\n",
       "    <tr>\n",
       "      <th>4</th>\n",
       "      <td>842613459</td>\n",
       "      <td>False</td>\n",
       "      <td>finalized</td>\n",
       "      <td>3</td>\n",
       "      <td>12/5/15 17:48</td>\n",
       "      <td>3.0</td>\n",
       "      <td>0.3257</td>\n",
       "      <td>yes</td>\n",
       "      <td>0.640</td>\n",
       "      <td>wsj_398838054</td>\n",
       "      <td>10/4/02</td>\n",
       "      <td>Currency Trading: Dollar Remains in Tight Rang...</td>\n",
       "      <td>NaN</td>\n",
       "      <td>NaN</td>\n",
       "      <td>NEW YORK -- Indecision marked the dollar's ton...</td>\n",
       "    </tr>\n",
       "  </tbody>\n",
       "</table>\n",
       "</div>"
      ],
      "text/plain": [
       "    _unit_id  _golden _unit_state  _trusted_judgments _last_judgment_at  \\\n",
       "0  842613455    False   finalized                   3     12/5/15 17:48   \n",
       "1  842613456    False   finalized                   3     12/5/15 16:54   \n",
       "2  842613457    False   finalized                   3      12/5/15 1:59   \n",
       "3  842613458    False   finalized                   3      12/5/15 2:19   \n",
       "4  842613459    False   finalized                   3     12/5/15 17:48   \n",
       "\n",
       "   positivity  positivity:confidence relevance  relevance:confidence  \\\n",
       "0         3.0                 0.6400       yes                 0.640   \n",
       "1         NaN                    NaN        no                 1.000   \n",
       "2         NaN                    NaN        no                 1.000   \n",
       "3         NaN                 0.0000        no                 0.675   \n",
       "4         3.0                 0.3257       yes                 0.640   \n",
       "\n",
       "       articleid      date                                           headline  \\\n",
       "0  wsj_398217788   8/14/91              Yields on CDs Fell in the Latest Week   \n",
       "1  wsj_399019502   8/21/07  The Morning Brief: White House Seeks to Limit ...   \n",
       "2  wsj_398284048  11/14/91  Banking Bill Negotiators Set Compromise --- Pl...   \n",
       "3  wsj_397959018   6/16/86  Manager's Journal: Sniffing Out Drug Abusers I...   \n",
       "4  wsj_398838054   10/4/02  Currency Trading: Dollar Remains in Tight Rang...   \n",
       "\n",
       "   positivity_gold  relevance_gold  \\\n",
       "0              NaN             NaN   \n",
       "1              NaN             NaN   \n",
       "2              NaN             NaN   \n",
       "3              NaN             NaN   \n",
       "4              NaN             NaN   \n",
       "\n",
       "                                                text  \n",
       "0  NEW YORK -- Yields on most certificates of dep...  \n",
       "1  The Wall Street Journal Online</br></br>The Mo...  \n",
       "2  WASHINGTON -- In an effort to achieve banking ...  \n",
       "3  The statistics on the enormous costs of employ...  \n",
       "4  NEW YORK -- Indecision marked the dollar's ton...  "
      ]
     },
     "execution_count": 76,
     "metadata": {},
     "output_type": "execute_result"
    }
   ],
   "source": [
    "df.head()"
   ]
  },
  {
   "cell_type": "code",
   "execution_count": 77,
   "metadata": {},
   "outputs": [
    {
     "data": {
      "text/html": [
       "<div>\n",
       "<style scoped>\n",
       "    .dataframe tbody tr th:only-of-type {\n",
       "        vertical-align: middle;\n",
       "    }\n",
       "\n",
       "    .dataframe tbody tr th {\n",
       "        vertical-align: top;\n",
       "    }\n",
       "\n",
       "    .dataframe thead th {\n",
       "        text-align: right;\n",
       "    }\n",
       "</style>\n",
       "<table border=\"1\" class=\"dataframe\">\n",
       "  <thead>\n",
       "    <tr style=\"text-align: right;\">\n",
       "      <th></th>\n",
       "      <th>_unit_id</th>\n",
       "      <th>_golden</th>\n",
       "      <th>_unit_state</th>\n",
       "      <th>_trusted_judgments</th>\n",
       "      <th>_last_judgment_at</th>\n",
       "      <th>positivity</th>\n",
       "      <th>positivity:confidence</th>\n",
       "      <th>relevance</th>\n",
       "      <th>relevance:confidence</th>\n",
       "      <th>articleid</th>\n",
       "      <th>date</th>\n",
       "      <th>headline</th>\n",
       "      <th>positivity_gold</th>\n",
       "      <th>relevance_gold</th>\n",
       "      <th>text</th>\n",
       "    </tr>\n",
       "  </thead>\n",
       "  <tbody>\n",
       "    <tr>\n",
       "      <th>7995</th>\n",
       "      <td>830985632</td>\n",
       "      <td>False</td>\n",
       "      <td>finalized</td>\n",
       "      <td>3</td>\n",
       "      <td>11/17/15 18:16</td>\n",
       "      <td>7.0</td>\n",
       "      <td>0.3511</td>\n",
       "      <td>yes</td>\n",
       "      <td>0.6641</td>\n",
       "      <td>wapo_152454634</td>\n",
       "      <td>2/11/52</td>\n",
       "      <td>Sawyer Sees Strong Economy For 2 Years, Truce ...</td>\n",
       "      <td>NaN</td>\n",
       "      <td>NaN</td>\n",
       "      <td>Secretary of Commerce Charles W. Sawyer said y...</td>\n",
       "    </tr>\n",
       "    <tr>\n",
       "      <th>7996</th>\n",
       "      <td>830985633</td>\n",
       "      <td>False</td>\n",
       "      <td>finalized</td>\n",
       "      <td>3</td>\n",
       "      <td>11/18/15 8:10</td>\n",
       "      <td>NaN</td>\n",
       "      <td>NaN</td>\n",
       "      <td>no</td>\n",
       "      <td>1.0000</td>\n",
       "      <td>wapo_410349039</td>\n",
       "      <td>12/13/09</td>\n",
       "      <td>Oil's losses are airlines' gains</td>\n",
       "      <td>NaN</td>\n",
       "      <td>NaN</td>\n",
       "      <td>U.S. stocks inched up last week, overcoming co...</td>\n",
       "    </tr>\n",
       "    <tr>\n",
       "      <th>7997</th>\n",
       "      <td>830985634</td>\n",
       "      <td>False</td>\n",
       "      <td>finalized</td>\n",
       "      <td>3</td>\n",
       "      <td>11/18/15 12:12</td>\n",
       "      <td>NaN</td>\n",
       "      <td>NaN</td>\n",
       "      <td>no</td>\n",
       "      <td>1.0000</td>\n",
       "      <td>wapo_410346237</td>\n",
       "      <td>12/18/09</td>\n",
       "      <td>Full Senate to vote on Bernanke; PANEL ADVANCE...</td>\n",
       "      <td>NaN</td>\n",
       "      <td>NaN</td>\n",
       "      <td>Ben S. Bernanke cleared a key hurdle Thursday ...</td>\n",
       "    </tr>\n",
       "    <tr>\n",
       "      <th>7998</th>\n",
       "      <td>830985635</td>\n",
       "      <td>False</td>\n",
       "      <td>finalized</td>\n",
       "      <td>3</td>\n",
       "      <td>11/18/15 7:17</td>\n",
       "      <td>NaN</td>\n",
       "      <td>0.0000</td>\n",
       "      <td>no</td>\n",
       "      <td>0.6855</td>\n",
       "      <td>wapo_307808606</td>\n",
       "      <td>1/10/95</td>\n",
       "      <td>Reinventing Opportunities</td>\n",
       "      <td>NaN</td>\n",
       "      <td>NaN</td>\n",
       "      <td>The White House's push to contract out many fe...</td>\n",
       "    </tr>\n",
       "    <tr>\n",
       "      <th>7999</th>\n",
       "      <td>830985636</td>\n",
       "      <td>False</td>\n",
       "      <td>finalized</td>\n",
       "      <td>3</td>\n",
       "      <td>11/18/15 11:05</td>\n",
       "      <td>NaN</td>\n",
       "      <td>NaN</td>\n",
       "      <td>no</td>\n",
       "      <td>1.0000</td>\n",
       "      <td>wapo_143151328</td>\n",
       "      <td>4/18/67</td>\n",
       "      <td>Stocks Rise On News of Auto Output: Dow Climbs...</td>\n",
       "      <td>NaN</td>\n",
       "      <td>NaN</td>\n",
       "      <td>NEW YORK. April 17-Automobile stocks put on th...</td>\n",
       "    </tr>\n",
       "  </tbody>\n",
       "</table>\n",
       "</div>"
      ],
      "text/plain": [
       "       _unit_id  _golden _unit_state  _trusted_judgments _last_judgment_at  \\\n",
       "7995  830985632    False   finalized                   3    11/17/15 18:16   \n",
       "7996  830985633    False   finalized                   3     11/18/15 8:10   \n",
       "7997  830985634    False   finalized                   3    11/18/15 12:12   \n",
       "7998  830985635    False   finalized                   3     11/18/15 7:17   \n",
       "7999  830985636    False   finalized                   3    11/18/15 11:05   \n",
       "\n",
       "      positivity  positivity:confidence relevance  relevance:confidence  \\\n",
       "7995         7.0                 0.3511       yes                0.6641   \n",
       "7996         NaN                    NaN        no                1.0000   \n",
       "7997         NaN                    NaN        no                1.0000   \n",
       "7998         NaN                 0.0000        no                0.6855   \n",
       "7999         NaN                    NaN        no                1.0000   \n",
       "\n",
       "           articleid      date  \\\n",
       "7995  wapo_152454634   2/11/52   \n",
       "7996  wapo_410349039  12/13/09   \n",
       "7997  wapo_410346237  12/18/09   \n",
       "7998  wapo_307808606   1/10/95   \n",
       "7999  wapo_143151328   4/18/67   \n",
       "\n",
       "                                               headline  positivity_gold  \\\n",
       "7995  Sawyer Sees Strong Economy For 2 Years, Truce ...              NaN   \n",
       "7996                   Oil's losses are airlines' gains              NaN   \n",
       "7997  Full Senate to vote on Bernanke; PANEL ADVANCE...              NaN   \n",
       "7998                          Reinventing Opportunities              NaN   \n",
       "7999  Stocks Rise On News of Auto Output: Dow Climbs...              NaN   \n",
       "\n",
       "      relevance_gold                                               text  \n",
       "7995             NaN  Secretary of Commerce Charles W. Sawyer said y...  \n",
       "7996             NaN  U.S. stocks inched up last week, overcoming co...  \n",
       "7997             NaN  Ben S. Bernanke cleared a key hurdle Thursday ...  \n",
       "7998             NaN  The White House's push to contract out many fe...  \n",
       "7999             NaN  NEW YORK. April 17-Automobile stocks put on th...  "
      ]
     },
     "execution_count": 77,
     "metadata": {},
     "output_type": "execute_result"
    }
   ],
   "source": [
    "df.tail()"
   ]
  },
  {
   "cell_type": "code",
   "execution_count": 78,
   "metadata": {},
   "outputs": [
    {
     "name": "stdout",
     "output_type": "stream",
     "text": [
      "<class 'pandas.core.frame.DataFrame'>\n",
      "RangeIndex: 8000 entries, 0 to 7999\n",
      "Data columns (total 15 columns):\n",
      " #   Column                 Non-Null Count  Dtype  \n",
      "---  ------                 --------------  -----  \n",
      " 0   _unit_id               8000 non-null   int64  \n",
      " 1   _golden                8000 non-null   bool   \n",
      " 2   _unit_state            8000 non-null   object \n",
      " 3   _trusted_judgments     8000 non-null   int64  \n",
      " 4   _last_judgment_at      8000 non-null   object \n",
      " 5   positivity             1420 non-null   float64\n",
      " 6   positivity:confidence  3775 non-null   float64\n",
      " 7   relevance              8000 non-null   object \n",
      " 8   relevance:confidence   8000 non-null   float64\n",
      " 9   articleid              8000 non-null   object \n",
      " 10  date                   8000 non-null   object \n",
      " 11  headline               8000 non-null   object \n",
      " 12  positivity_gold        0 non-null      float64\n",
      " 13  relevance_gold         0 non-null      float64\n",
      " 14  text                   8000 non-null   object \n",
      "dtypes: bool(1), float64(5), int64(2), object(7)\n",
      "memory usage: 882.9+ KB\n"
     ]
    }
   ],
   "source": [
    "df.info()"
   ]
  },
  {
   "cell_type": "code",
   "execution_count": 79,
   "metadata": {},
   "outputs": [
    {
     "data": {
      "text/plain": [
       "(8000, 15)"
      ]
     },
     "execution_count": 79,
     "metadata": {},
     "output_type": "execute_result"
    }
   ],
   "source": [
    "df.shape"
   ]
  },
  {
   "cell_type": "code",
   "execution_count": 80,
   "metadata": {},
   "outputs": [
    {
     "data": {
      "text/plain": [
       "relevance\n",
       "no          6571\n",
       "yes         1420\n",
       "not sure       9\n",
       "Name: count, dtype: int64"
      ]
     },
     "execution_count": 80,
     "metadata": {},
     "output_type": "execute_result"
    }
   ],
   "source": [
    "df[\"relevance\"].value_counts()\n",
    "#you'll get a Series that shows the counts of each unique value in the \"relevance\" column of the DataFrame df. This is useful for understanding the distribution of values in that column."
   ]
  },
  {
   "cell_type": "code",
   "execution_count": 81,
   "metadata": {},
   "outputs": [],
   "source": [
    "df=df[df[\"relevance\"]!='not sure']\n",
    "#This line of code filters the DataFrame df to exclude rows where the value in the \"relevance\" column is \"not sure\"."
   ]
  },
  {
   "cell_type": "code",
   "execution_count": 82,
   "metadata": {},
   "outputs": [
    {
     "data": {
      "text/html": [
       "<div>\n",
       "<style scoped>\n",
       "    .dataframe tbody tr th:only-of-type {\n",
       "        vertical-align: middle;\n",
       "    }\n",
       "\n",
       "    .dataframe tbody tr th {\n",
       "        vertical-align: top;\n",
       "    }\n",
       "\n",
       "    .dataframe thead th {\n",
       "        text-align: right;\n",
       "    }\n",
       "</style>\n",
       "<table border=\"1\" class=\"dataframe\">\n",
       "  <thead>\n",
       "    <tr style=\"text-align: right;\">\n",
       "      <th></th>\n",
       "      <th>_unit_id</th>\n",
       "      <th>_golden</th>\n",
       "      <th>_unit_state</th>\n",
       "      <th>_trusted_judgments</th>\n",
       "      <th>_last_judgment_at</th>\n",
       "      <th>positivity</th>\n",
       "      <th>positivity:confidence</th>\n",
       "      <th>relevance</th>\n",
       "      <th>relevance:confidence</th>\n",
       "      <th>articleid</th>\n",
       "      <th>date</th>\n",
       "      <th>headline</th>\n",
       "      <th>positivity_gold</th>\n",
       "      <th>relevance_gold</th>\n",
       "      <th>text</th>\n",
       "    </tr>\n",
       "  </thead>\n",
       "  <tbody>\n",
       "    <tr>\n",
       "      <th>0</th>\n",
       "      <td>842613455</td>\n",
       "      <td>False</td>\n",
       "      <td>finalized</td>\n",
       "      <td>3</td>\n",
       "      <td>12/5/15 17:48</td>\n",
       "      <td>3.0</td>\n",
       "      <td>0.6400</td>\n",
       "      <td>yes</td>\n",
       "      <td>0.640</td>\n",
       "      <td>wsj_398217788</td>\n",
       "      <td>8/14/91</td>\n",
       "      <td>Yields on CDs Fell in the Latest Week</td>\n",
       "      <td>NaN</td>\n",
       "      <td>NaN</td>\n",
       "      <td>NEW YORK -- Yields on most certificates of dep...</td>\n",
       "    </tr>\n",
       "    <tr>\n",
       "      <th>1</th>\n",
       "      <td>842613456</td>\n",
       "      <td>False</td>\n",
       "      <td>finalized</td>\n",
       "      <td>3</td>\n",
       "      <td>12/5/15 16:54</td>\n",
       "      <td>NaN</td>\n",
       "      <td>NaN</td>\n",
       "      <td>no</td>\n",
       "      <td>1.000</td>\n",
       "      <td>wsj_399019502</td>\n",
       "      <td>8/21/07</td>\n",
       "      <td>The Morning Brief: White House Seeks to Limit ...</td>\n",
       "      <td>NaN</td>\n",
       "      <td>NaN</td>\n",
       "      <td>The Wall Street Journal Online&lt;/br&gt;&lt;/br&gt;The Mo...</td>\n",
       "    </tr>\n",
       "    <tr>\n",
       "      <th>2</th>\n",
       "      <td>842613457</td>\n",
       "      <td>False</td>\n",
       "      <td>finalized</td>\n",
       "      <td>3</td>\n",
       "      <td>12/5/15 1:59</td>\n",
       "      <td>NaN</td>\n",
       "      <td>NaN</td>\n",
       "      <td>no</td>\n",
       "      <td>1.000</td>\n",
       "      <td>wsj_398284048</td>\n",
       "      <td>11/14/91</td>\n",
       "      <td>Banking Bill Negotiators Set Compromise --- Pl...</td>\n",
       "      <td>NaN</td>\n",
       "      <td>NaN</td>\n",
       "      <td>WASHINGTON -- In an effort to achieve banking ...</td>\n",
       "    </tr>\n",
       "    <tr>\n",
       "      <th>3</th>\n",
       "      <td>842613458</td>\n",
       "      <td>False</td>\n",
       "      <td>finalized</td>\n",
       "      <td>3</td>\n",
       "      <td>12/5/15 2:19</td>\n",
       "      <td>NaN</td>\n",
       "      <td>0.0000</td>\n",
       "      <td>no</td>\n",
       "      <td>0.675</td>\n",
       "      <td>wsj_397959018</td>\n",
       "      <td>6/16/86</td>\n",
       "      <td>Manager's Journal: Sniffing Out Drug Abusers I...</td>\n",
       "      <td>NaN</td>\n",
       "      <td>NaN</td>\n",
       "      <td>The statistics on the enormous costs of employ...</td>\n",
       "    </tr>\n",
       "    <tr>\n",
       "      <th>4</th>\n",
       "      <td>842613459</td>\n",
       "      <td>False</td>\n",
       "      <td>finalized</td>\n",
       "      <td>3</td>\n",
       "      <td>12/5/15 17:48</td>\n",
       "      <td>3.0</td>\n",
       "      <td>0.3257</td>\n",
       "      <td>yes</td>\n",
       "      <td>0.640</td>\n",
       "      <td>wsj_398838054</td>\n",
       "      <td>10/4/02</td>\n",
       "      <td>Currency Trading: Dollar Remains in Tight Rang...</td>\n",
       "      <td>NaN</td>\n",
       "      <td>NaN</td>\n",
       "      <td>NEW YORK -- Indecision marked the dollar's ton...</td>\n",
       "    </tr>\n",
       "  </tbody>\n",
       "</table>\n",
       "</div>"
      ],
      "text/plain": [
       "    _unit_id  _golden _unit_state  _trusted_judgments _last_judgment_at  \\\n",
       "0  842613455    False   finalized                   3     12/5/15 17:48   \n",
       "1  842613456    False   finalized                   3     12/5/15 16:54   \n",
       "2  842613457    False   finalized                   3      12/5/15 1:59   \n",
       "3  842613458    False   finalized                   3      12/5/15 2:19   \n",
       "4  842613459    False   finalized                   3     12/5/15 17:48   \n",
       "\n",
       "   positivity  positivity:confidence relevance  relevance:confidence  \\\n",
       "0         3.0                 0.6400       yes                 0.640   \n",
       "1         NaN                    NaN        no                 1.000   \n",
       "2         NaN                    NaN        no                 1.000   \n",
       "3         NaN                 0.0000        no                 0.675   \n",
       "4         3.0                 0.3257       yes                 0.640   \n",
       "\n",
       "       articleid      date                                           headline  \\\n",
       "0  wsj_398217788   8/14/91              Yields on CDs Fell in the Latest Week   \n",
       "1  wsj_399019502   8/21/07  The Morning Brief: White House Seeks to Limit ...   \n",
       "2  wsj_398284048  11/14/91  Banking Bill Negotiators Set Compromise --- Pl...   \n",
       "3  wsj_397959018   6/16/86  Manager's Journal: Sniffing Out Drug Abusers I...   \n",
       "4  wsj_398838054   10/4/02  Currency Trading: Dollar Remains in Tight Rang...   \n",
       "\n",
       "   positivity_gold  relevance_gold  \\\n",
       "0              NaN             NaN   \n",
       "1              NaN             NaN   \n",
       "2              NaN             NaN   \n",
       "3              NaN             NaN   \n",
       "4              NaN             NaN   \n",
       "\n",
       "                                                text  \n",
       "0  NEW YORK -- Yields on most certificates of dep...  \n",
       "1  The Wall Street Journal Online</br></br>The Mo...  \n",
       "2  WASHINGTON -- In an effort to achieve banking ...  \n",
       "3  The statistics on the enormous costs of employ...  \n",
       "4  NEW YORK -- Indecision marked the dollar's ton...  "
      ]
     },
     "execution_count": 82,
     "metadata": {},
     "output_type": "execute_result"
    }
   ],
   "source": [
    "df.head()"
   ]
  },
  {
   "cell_type": "code",
   "execution_count": 83,
   "metadata": {},
   "outputs": [
    {
     "data": {
      "text/plain": [
       "(7991, 15)"
      ]
     },
     "execution_count": 83,
     "metadata": {},
     "output_type": "execute_result"
    }
   ],
   "source": [
    "df.shape"
   ]
  },
  {
   "cell_type": "code",
   "execution_count": 84,
   "metadata": {},
   "outputs": [
    {
     "data": {
      "text/plain": [
       "relevance\n",
       "no     0.8223\n",
       "yes    0.1777\n",
       "Name: count, dtype: float64"
      ]
     },
     "execution_count": 84,
     "metadata": {},
     "output_type": "execute_result"
    }
   ],
   "source": [
    "df[\"relevance\"].value_counts()/df.shape[0]"
   ]
  },
  {
   "cell_type": "code",
   "execution_count": 85,
   "metadata": {},
   "outputs": [],
   "source": [
    "df_yes=df[df[\"relevance\"]=='yes']"
   ]
  },
  {
   "cell_type": "code",
   "execution_count": 86,
   "metadata": {},
   "outputs": [
    {
     "data": {
      "text/plain": [
       "0     NEW YORK -- Yields on most certificates of dep...\n",
       "4     NEW YORK -- Indecision marked the dollar's ton...\n",
       "5     Stocks declined, as investors weighed slower-t...\n",
       "9     The U.S. dollar declined against most major fo...\n",
       "12    Author: James B. Stewart</br></br>The dreaded ...\n",
       "17    NEW YORK -- The dollar sagged yesterday, as ne...\n",
       "20    The technology industry, an engine of innovati...\n",
       "21    WASHINGTON -- While acknowledging that the pac...\n",
       "27    WASHINGTON -- In a sign that inflation remains...\n",
       "30    WASHINGTON -- Consumer credit in July continue...\n",
       "Name: text, dtype: object"
      ]
     },
     "execution_count": 86,
     "metadata": {},
     "output_type": "execute_result"
    }
   ],
   "source": [
    "df_yes[\"text\"].head(10)"
   ]
  },
  {
   "cell_type": "code",
   "execution_count": 87,
   "metadata": {},
   "outputs": [],
   "source": [
    "df_no=df[df[\"relevance\"]=='no']"
   ]
  },
  {
   "cell_type": "code",
   "execution_count": 88,
   "metadata": {},
   "outputs": [
    {
     "data": {
      "text/plain": [
       "1     The Wall Street Journal Online</br></br>The Mo...\n",
       "2     WASHINGTON -- In an effort to achieve banking ...\n",
       "3     The statistics on the enormous costs of employ...\n",
       "6     TORONTO -- Royal Bank of Canada and Bank of Mo...\n",
       "7     Many people think that the monster of health-c...\n",
       "8     Sequenom Inc., a genomics-based biotechnology ...\n",
       "10    The Wall Street Journal Online</br></br>A LATE...\n",
       "11    MCI WorldCom Inc., fueled by growth in Interne...\n",
       "13    NEW YORK -- Commercial and industrial loan vol...\n",
       "14    WASHINGTON -- A week before an international e...\n",
       "Name: text, dtype: object"
      ]
     },
     "execution_count": 88,
     "metadata": {},
     "output_type": "execute_result"
    }
   ],
   "source": [
    "df_no[\"text\"].head(10)"
   ]
  },
  {
   "cell_type": "code",
   "execution_count": 89,
   "metadata": {},
   "outputs": [
    {
     "data": {
      "text/plain": [
       "(1420, 15)"
      ]
     },
     "execution_count": 89,
     "metadata": {},
     "output_type": "execute_result"
    }
   ],
   "source": [
    "df_yes.shape"
   ]
  },
  {
   "cell_type": "code",
   "execution_count": 90,
   "metadata": {},
   "outputs": [
    {
     "data": {
      "text/plain": [
       "(6571, 15)"
      ]
     },
     "execution_count": 90,
     "metadata": {},
     "output_type": "execute_result"
    }
   ],
   "source": [
    "df_no.shape"
   ]
  },
  {
   "cell_type": "code",
   "execution_count": 91,
   "metadata": {},
   "outputs": [
    {
     "data": {
      "text/plain": [
       "(7991, 15)"
      ]
     },
     "execution_count": 91,
     "metadata": {},
     "output_type": "execute_result"
    }
   ],
   "source": [
    "df.shape"
   ]
  },
  {
   "cell_type": "code",
   "execution_count": 92,
   "metadata": {},
   "outputs": [],
   "source": [
    "df=df[[\"text\",\"relevance\"]]"
   ]
  },
  {
   "cell_type": "code",
   "execution_count": 93,
   "metadata": {},
   "outputs": [
    {
     "data": {
      "text/html": [
       "<div>\n",
       "<style scoped>\n",
       "    .dataframe tbody tr th:only-of-type {\n",
       "        vertical-align: middle;\n",
       "    }\n",
       "\n",
       "    .dataframe tbody tr th {\n",
       "        vertical-align: top;\n",
       "    }\n",
       "\n",
       "    .dataframe thead th {\n",
       "        text-align: right;\n",
       "    }\n",
       "</style>\n",
       "<table border=\"1\" class=\"dataframe\">\n",
       "  <thead>\n",
       "    <tr style=\"text-align: right;\">\n",
       "      <th></th>\n",
       "      <th>text</th>\n",
       "      <th>relevance</th>\n",
       "    </tr>\n",
       "  </thead>\n",
       "  <tbody>\n",
       "    <tr>\n",
       "      <th>0</th>\n",
       "      <td>NEW YORK -- Yields on most certificates of dep...</td>\n",
       "      <td>yes</td>\n",
       "    </tr>\n",
       "    <tr>\n",
       "      <th>1</th>\n",
       "      <td>The Wall Street Journal Online&lt;/br&gt;&lt;/br&gt;The Mo...</td>\n",
       "      <td>no</td>\n",
       "    </tr>\n",
       "    <tr>\n",
       "      <th>2</th>\n",
       "      <td>WASHINGTON -- In an effort to achieve banking ...</td>\n",
       "      <td>no</td>\n",
       "    </tr>\n",
       "    <tr>\n",
       "      <th>3</th>\n",
       "      <td>The statistics on the enormous costs of employ...</td>\n",
       "      <td>no</td>\n",
       "    </tr>\n",
       "    <tr>\n",
       "      <th>4</th>\n",
       "      <td>NEW YORK -- Indecision marked the dollar's ton...</td>\n",
       "      <td>yes</td>\n",
       "    </tr>\n",
       "  </tbody>\n",
       "</table>\n",
       "</div>"
      ],
      "text/plain": [
       "                                                text relevance\n",
       "0  NEW YORK -- Yields on most certificates of dep...       yes\n",
       "1  The Wall Street Journal Online</br></br>The Mo...        no\n",
       "2  WASHINGTON -- In an effort to achieve banking ...        no\n",
       "3  The statistics on the enormous costs of employ...        no\n",
       "4  NEW YORK -- Indecision marked the dollar's ton...       yes"
      ]
     },
     "execution_count": 93,
     "metadata": {},
     "output_type": "execute_result"
    }
   ],
   "source": [
    "df.head()"
   ]
  },
  {
   "cell_type": "code",
   "execution_count": 94,
   "metadata": {},
   "outputs": [
    {
     "name": "stdout",
     "output_type": "stream",
     "text": [
      "Total counts of both sets relevance\n",
      "no     6571\n",
      "yes    1420\n",
      "Name: count, dtype: int64\n",
      "==============\n",
      "                                                   text relevance\n",
      "0     NEW YORK -- Yields on most certificates of dep...       yes\n",
      "4     NEW YORK -- Indecision marked the dollar's ton...       yes\n",
      "5     Stocks declined, as investors weighed slower-t...       yes\n",
      "9     The U.S. dollar declined against most major fo...       yes\n",
      "12    Author: James B. Stewart</br></br>The dreaded ...       yes\n",
      "...                                                 ...       ...\n",
      "7973  Housing starts surged by 4.4 percent last mont...       yes\n",
      "7974  When it comes to actually cashing in, stock ma...       yes\n",
      "7984  Perhaps nothing about the Clinton administrati...       yes\n",
      "7987  Looking at the enormous -- and incessant -- ti...       yes\n",
      "7995  Secretary of Commerce Charles W. Sawyer said y...       yes\n",
      "\n",
      "[1420 rows x 2 columns]\n"
     ]
    },
    {
     "data": {
      "image/png": "[encoded data removed]",
      "text/plain": [
       "<Figure size 600x600 with 1 Axes>"
      ]
     },
     "metadata": {},
     "output_type": "display_data"
    }
   ],
   "source": [
    "count=df['relevance'].value_counts() # Counts the  Ocurrences of unique vaules in series \n",
    "print('Total counts of both sets'.format(),count)\n",
    "print(\"==============\")\n",
    "def plot_counts(count_good,count_bad):\n",
    "    plt.rcParams['figure.figsize']=(6,6)\n",
    "    plt.bar(0,count_good,width=0.6,label='yes',color='Green')  # This line sets the size of the plot figure to 6x6 inches using the rcParams dictionary in Matplotlib, which controls the default styles for plots\n",
    "    plt.legend()\n",
    "    plt.bar(2,count_bad,width=0.6,label='No',color='Red')  #This line creates a bar plot for the count of 'bad' reviews. The bar is positioned at x-coordinate 2, with a width of 0.6. It's labeled as 'No' and colored red\n",
    "    plt.legend()\n",
    "    plt.ylabel('Count of Reviews')\n",
    "    plt.xlabel('Types of Reviews')\n",
    "    plt.show()\n",
    "count_good=df[df['relevance']=='yes']\n",
    "print(count_good)\n",
    "count_bad=df[df['relevance']=='no']\n",
    "plot_counts(len(count_good),len(count_bad))"
   ]
  },
  {
   "cell_type": "code",
   "execution_count": 95,
   "metadata": {},
   "outputs": [
    {
     "data": {
      "text/plain": [
       "0       3\n",
       "1       4\n",
       "2       2\n",
       "3       6\n",
       "4       2\n",
       "       ..\n",
       "150     2\n",
       "151     5\n",
       "152     3\n",
       "153     6\n",
       "154    13\n",
       "Length: 155, dtype: int64"
      ]
     },
     "execution_count": 95,
     "metadata": {},
     "output_type": "execute_result"
    }
   ],
   "source": [
    "# Split the text into words\n",
    "word_list = count_good['text'].str.split()[0]\n",
    "\n",
    "# Convert the list of words into a pandas Series\n",
    "word_series = pd.Series(word_list)\n",
    "\n",
    "# Apply the lambda function to calculate the length of each word\n",
    "word_lengths = word_series.apply(lambda z: len(z))\n",
    "word_lengths "
   ]
  },
  {
   "cell_type": "code",
   "execution_count": 96,
   "metadata": {},
   "outputs": [
    {
     "name": "stdout",
     "output_type": "stream",
     "text": [
      "Postive 'relevance':0       155\n",
      "4       167\n",
      "5       113\n",
      "9       168\n",
      "12      143\n",
      "       ... \n",
      "7973    186\n",
      "7974    278\n",
      "7984    160\n",
      "7987    607\n",
      "7995    190\n",
      "Name: text, Length: 1420, dtype: int64\n",
      "Negative 'relevance':0       155\n",
      "4       167\n",
      "5       113\n",
      "9       168\n",
      "12      143\n",
      "       ... \n",
      "7973    186\n",
      "7974    278\n",
      "7984    160\n",
      "7987    607\n",
      "7995    190\n",
      "Name: text, Length: 1420, dtype: int64\n"
     ]
    },
    {
     "name": "stderr",
     "output_type": "stream",
     "text": [
      "C:\\Users\\baru.chandra\\AppData\\Local\\Temp\\ipykernel_31224\\2034493815.py:7: UserWarning:\n",
      "\n",
      "\n",
      "\n",
      "`distplot` is a deprecated function and will be removed in seaborn v0.14.0.\n",
      "\n",
      "Please adapt your code to use either `displot` (a figure-level function with\n",
      "similar flexibility) or `histplot` (an axes-level function for histograms).\n",
      "\n",
      "For a guide to updating your code to use the new functions, please see\n",
      "https://gist.github.com/mwaskom/de44147ed2974457ad6372750bbe5751\n",
      "\n",
      "\n",
      "C:\\Users\\baru.chandra\\AppData\\Local\\Temp\\ipykernel_31224\\2034493815.py:9: UserWarning:\n",
      "\n",
      "\n",
      "\n",
      "`distplot` is a deprecated function and will be removed in seaborn v0.14.0.\n",
      "\n",
      "Please adapt your code to use either `displot` (a figure-level function with\n",
      "similar flexibility) or `histplot` (an axes-level function for histograms).\n",
      "\n",
      "For a guide to updating your code to use the new functions, please see\n",
      "https://gist.github.com/mwaskom/de44147ed2974457ad6372750bbe5751\n",
      "\n",
      "\n"
     ]
    },
    {
     "data": {
      "image/png": "[encoded data removed]",
      "text/plain": [
       "<Figure size 1500x500 with 2 Axes>"
      ]
     },
     "metadata": {},
     "output_type": "display_data"
    }
   ],
   "source": [
    "def cal_len(data):\n",
    "    return len(data)\n",
    "\n",
    "\n",
    "def plot_count(count_ones,count_zeros,title_1,title_2,subtitle):\n",
    "    fig,(ax1,ax2)=plt.subplots(1,2,figsize=(15,5))\n",
    "    sns.distplot(count_zeros,ax=ax1,color='Blue')\n",
    "    ax1.set_title(title_1)\n",
    "    sns.distplot(count_ones,ax=ax2,color='Red')\n",
    "    ax2.set_title(title_2)\n",
    "    fig.suptitle(subtitle)\n",
    "    plt.show()\n",
    "\n",
    "count_good_words=count_good['text'].str.split().apply(lambda z:cal_len(z))\n",
    "count_bad_words=count_bad['text'].str.split().apply(lambda z:cal_len(z))\n",
    "\n",
    "print(\"Postive 'relevance':\" + str(count_good_words))\n",
    "print(\"Negative 'relevance':\" + str(count_good_words))\n",
    "\n",
    "\n",
    "plot_count(count_good_words,count_bad_words,\"POSTIVE relevance\",\"Negative relevance\",\"relevance Word Analysis\")\n"
   ]
  },
  {
   "cell_type": "code",
   "execution_count": 97,
   "metadata": {},
   "outputs": [
    {
     "name": "stdout",
     "output_type": "stream",
     "text": [
      "['-', '-', ',', '-', '.', '<', '/', '>', '<', '/', '>', '-', ',', '\"', ',', '\"', ',', '-', '.', '%', '.', '%', ',', '-', ',', ',', '.', ',', '.', '<', '/', '>', '<', '/', '>', '-', '\"', '\"', ',', '.', '%', '.', '%', ',', '.', ',', ',', '%', '-', '.', '<', '/', '>', '<', '/', '>', '-', ',', '.', '%', '.', '%', ',', '.', '<', '/', '>', '<', '/', '>', '-', '-', \"'\", ',', '.', '%', '.', '%', ',', '.']\n",
      "\n",
      "\n",
      "80\n"
     ]
    }
   ],
   "source": [
    "S_s=[]\n",
    "# Split the text into words\n",
    "word_list = count_good['text'][0] #.str.split()[0]\n",
    "\n",
    "# Convert the list of words into a pandas Series\n",
    "word_series = pd.Series(word_list)\n",
    "for word in word_series:\n",
    "    for char in word:\n",
    "         #print(char)\n",
    "         if char in string.punctuation:\n",
    "              S_s.append(char)\n",
    "print(S_s)\n",
    "print('\\n')\n",
    "print(len(S_s))\n"
   ]
  },
  {
   "cell_type": "code",
   "execution_count": 98,
   "metadata": {},
   "outputs": [
    {
     "name": "stdout",
     "output_type": "stream",
     "text": [
      "0    NEW YORK -- Yields on most certificates of dep...\n",
      "dtype: object\n"
     ]
    },
    {
     "data": {
      "text/plain": [
       "0    80\n",
       "dtype: int64"
      ]
     },
     "execution_count": 98,
     "metadata": {},
     "output_type": "execute_result"
    }
   ],
   "source": [
    "# Split the text into words\n",
    "word_list = count_good['text'][0] #.str.split()[0]\n",
    "\n",
    "# Convert the list of words into a pandas Series\n",
    "word_series = pd.Series(word_list)\n",
    "print(word_series)\n",
    "# Apply the lambda function to calculate the length of each word\n",
    "word_pun = word_series.apply(lambda z: len([c for c in str(z) if c in string.punctuation]))\n",
    "word_pun"
   ]
  },
  {
   "cell_type": "code",
   "execution_count": 99,
   "metadata": {},
   "outputs": [
    {
     "name": "stdout",
     "output_type": "stream",
     "text": [
      "Postive 'relevance':0        80\n",
      "4        62\n",
      "5        77\n",
      "9        65\n",
      "12       60\n",
      "       ... \n",
      "7973     56\n",
      "7974     58\n",
      "7984     45\n",
      "7987    151\n",
      "7995     38\n",
      "Name: text, Length: 1420, dtype: int64\n",
      "======================\n",
      "count_bad_punctuations':1        88\n",
      "2        54\n",
      "3        86\n",
      "6        88\n",
      "7       116\n",
      "       ... \n",
      "7994     46\n",
      "7996     76\n",
      "7997     62\n",
      "7998     69\n",
      "7999     50\n",
      "Name: text, Length: 6571, dtype: int64\n"
     ]
    },
    {
     "name": "stderr",
     "output_type": "stream",
     "text": [
      "C:\\Users\\baru.chandra\\AppData\\Local\\Temp\\ipykernel_31224\\2034493815.py:7: UserWarning:\n",
      "\n",
      "\n",
      "\n",
      "`distplot` is a deprecated function and will be removed in seaborn v0.14.0.\n",
      "\n",
      "Please adapt your code to use either `displot` (a figure-level function with\n",
      "similar flexibility) or `histplot` (an axes-level function for histograms).\n",
      "\n",
      "For a guide to updating your code to use the new functions, please see\n",
      "https://gist.github.com/mwaskom/de44147ed2974457ad6372750bbe5751\n",
      "\n",
      "\n",
      "C:\\Users\\baru.chandra\\AppData\\Local\\Temp\\ipykernel_31224\\2034493815.py:9: UserWarning:\n",
      "\n",
      "\n",
      "\n",
      "`distplot` is a deprecated function and will be removed in seaborn v0.14.0.\n",
      "\n",
      "Please adapt your code to use either `displot` (a figure-level function with\n",
      "similar flexibility) or `histplot` (an axes-level function for histograms).\n",
      "\n",
      "For a guide to updating your code to use the new functions, please see\n",
      "https://gist.github.com/mwaskom/de44147ed2974457ad6372750bbe5751\n",
      "\n",
      "\n"
     ]
    },
    {
     "data": {
      "image/png": "[encoded data removed]",
      "text/plain": [
       "<Figure size 1500x500 with 2 Axes>"
      ]
     },
     "metadata": {},
     "output_type": "display_data"
    }
   ],
   "source": [
    "count_good_punctuations=count_good['text'].apply(lambda z: len([c for c in str(z) if c in string.punctuation]))\n",
    "print(\"Postive 'relevance':\" + str(count_good_punctuations))\n",
    "print(\"======================\")\n",
    "count_bad_punctuations=count_bad['text'].apply(lambda z : len([c for c in str(z) if c in string.punctuation]))\n",
    "print(\"count_bad_punctuations':\" + str(count_bad_punctuations))\n",
    "plot_count(count_good_punctuations,count_bad_punctuations,\"Positive text Punctuations\",\"Negative text Punctuations\",\"Reviews Word Punctuation Analysis\")"
   ]
  },
  {
   "cell_type": "code",
   "execution_count": 100,
   "metadata": {},
   "outputs": [
    {
     "data": {
      "image/png": "[encoded data removed]",
      "text/plain": [
       "<Figure size 1500x500 with 2 Axes>"
      ]
     },
     "metadata": {},
     "output_type": "display_data"
    }
   ],
   "source": [
    "\n",
    "def plot_count_1(count_ones, count_zeros, title_1, title_2, subtitle):\n",
    "    fig, (ax1, ax2) = plt.subplots(1, 2, figsize=(15, 5))\n",
    "    sns.histplot(count_zeros, ax=ax1, color='Blue', kde=True)\n",
    "    ax1.set_title(title_1)\n",
    "    sns.histplot(count_ones, ax=ax2, color='Orange', kde=True)\n",
    "    ax2.set_title(title_2)\n",
    "    fig.suptitle(subtitle)\n",
    "    plt.show()\n",
    "\n",
    "stops = set(stopwords.words('english'))\n",
    "count_good_stops = count_good['text'].apply(lambda z: np.mean([len(z) for w in str(z).split()]))\n",
    "count_bad_stops = count_bad['text'].apply(lambda z: np.mean([len(z) for w in str(z).split()]))\n",
    "plot_count_1(count_good_stops, count_bad_stops, \"Positive Relevance Stopwords\", \"Negative Relevance Stopwords\", \"Reviews Stopwords Analysis\")\n"
   ]
  },
  {
   "cell_type": "code",
   "execution_count": 101,
   "metadata": {},
   "outputs": [
    {
     "name": "stderr",
     "output_type": "stream",
     "text": [
      "C:\\Users\\baru.chandra\\AppData\\Local\\Temp\\ipykernel_31224\\978730737.py:3: UserWarning:\n",
      "\n",
      "\n",
      "\n",
      "`distplot` is a deprecated function and will be removed in seaborn v0.14.0.\n",
      "\n",
      "Please adapt your code to use either `displot` (a figure-level function with\n",
      "similar flexibility) or `histplot` (an axes-level function for histograms).\n",
      "\n",
      "For a guide to updating your code to use the new functions, please see\n",
      "https://gist.github.com/mwaskom/de44147ed2974457ad6372750bbe5751\n",
      "\n",
      "\n",
      "C:\\Users\\baru.chandra\\AppData\\Local\\Temp\\ipykernel_31224\\978730737.py:5: UserWarning:\n",
      "\n",
      "\n",
      "\n",
      "`distplot` is a deprecated function and will be removed in seaborn v0.14.0.\n",
      "\n",
      "Please adapt your code to use either `displot` (a figure-level function with\n",
      "similar flexibility) or `histplot` (an axes-level function for histograms).\n",
      "\n",
      "For a guide to updating your code to use the new functions, please see\n",
      "https://gist.github.com/mwaskom/de44147ed2974457ad6372750bbe5751\n",
      "\n",
      "\n"
     ]
    },
    {
     "data": {
      "image/png": "[encoded data removed]",
      "text/plain": [
       "<Figure size 1500x500 with 2 Axes>"
      ]
     },
     "metadata": {},
     "output_type": "display_data"
    }
   ],
   "source": [
    "def plot_count_1(count_ones, count_zeros, title_1, title_2, subtitle):\n",
    "    fig, (ax1, ax2) = plt.subplots(1, 2, figsize=(15, 5))\n",
    "    sns.distplot(count_zeros, ax=ax1, color='Blue')\n",
    "    ax1.set_title(title_1)\n",
    "    sns.distplot(count_ones, ax=ax2, color='Orange')\n",
    "    ax2.set_title(title_2)\n",
    "    fig.suptitle(subtitle)\n",
    "    plt.show()\n",
    "\n",
    "stops = set(stopwords.words('english'))\n",
    "\n",
    "# Assuming count_good and count_bad are DataFrames containing positive and negative reviews respectively\n",
    "\n",
    "count_good_stops = count_good['text'].apply(lambda z: np.mean([len(z) for w in str(z).split() if w.lower() not in stops]))\n",
    "count_bad_stops = count_bad['text'].apply(lambda z: np.mean([len(z) for w in str(z).split() if w.lower() not in stops]))\n",
    "\n",
    "plot_count_1(count_good_stops, count_bad_stops, \"Positive Reviews Stopwords\", \"Negative Reviews Stopwords\", \"Reviews Stopwords Analysis\")\n"
   ]
  },
  {
   "cell_type": "code",
   "execution_count": 102,
   "metadata": {},
   "outputs": [
    {
     "name": "stderr",
     "output_type": "stream",
     "text": [
      "C:\\Users\\baru.chandra\\AppData\\Local\\Temp\\ipykernel_31224\\978730737.py:3: UserWarning:\n",
      "\n",
      "\n",
      "\n",
      "`distplot` is a deprecated function and will be removed in seaborn v0.14.0.\n",
      "\n",
      "Please adapt your code to use either `displot` (a figure-level function with\n",
      "similar flexibility) or `histplot` (an axes-level function for histograms).\n",
      "\n",
      "For a guide to updating your code to use the new functions, please see\n",
      "https://gist.github.com/mwaskom/de44147ed2974457ad6372750bbe5751\n",
      "\n",
      "\n",
      "C:\\Users\\baru.chandra\\AppData\\Local\\Temp\\ipykernel_31224\\978730737.py:5: UserWarning:\n",
      "\n",
      "\n",
      "\n",
      "`distplot` is a deprecated function and will be removed in seaborn v0.14.0.\n",
      "\n",
      "Please adapt your code to use either `displot` (a figure-level function with\n",
      "similar flexibility) or `histplot` (an axes-level function for histograms).\n",
      "\n",
      "For a guide to updating your code to use the new functions, please see\n",
      "https://gist.github.com/mwaskom/de44147ed2974457ad6372750bbe5751\n",
      "\n",
      "\n"
     ]
    },
    {
     "data": {
      "image/png": "[encoded data removed]",
      "text/plain": [
       "<Figure size 1500x500 with 2 Axes>"
      ]
     },
     "metadata": {},
     "output_type": "display_data"
    }
   ],
   "source": [
    "## Checking number of Urls\n",
    "count_good_urls=count_good['text'].apply(lambda x: len([w for w in str(x).lower().split() if 'http' in w or 'https' in w]))\n",
    "count_bad_urls=count_bad['text'].apply(lambda x: len([w for w in str(x).lower().split() if 'http' in w or 'https' in w]))\n",
    "\n",
    "plot_count_1(count_good_stops,count_bad_stops,\"Positive Relevance URLs\",\"Negative Reviews URLs\",\"Reviews Relavance Analysis\")\n"
   ]
  },
  {
   "cell_type": "code",
   "execution_count": 103,
   "metadata": {},
   "outputs": [
    {
     "data": {
      "text/plain": [
       "<Axes: >"
      ]
     },
     "execution_count": 103,
     "metadata": {},
     "output_type": "execute_result"
    },
    {
     "data": {
      "image/png": "[encoded data removed]",
      "text/plain": [
       "<Figure size 600x600 with 1 Axes>"
      ]
     },
     "metadata": {},
     "output_type": "display_data"
    }
   ],
   "source": [
    "#Simplified counter function\n",
    "def create_corpus(word):\n",
    "    corpus=[]\n",
    "    \n",
    "    for x in df[df['relevance']==word]['text'].str.split():\n",
    "        for i in x:\n",
    "            corpus.append(i)\n",
    "    return corpus\n",
    "\n",
    "corpus=create_corpus('yes')\n",
    "counter=Counter(corpus)\n",
    "most=counter.most_common()\n",
    "x=[]\n",
    "y=[]\n",
    "for word,count in most[:100]:\n",
    "    if (word not in stops) :\n",
    "        x.append(word)\n",
    "        y.append(count)\n",
    "sns.barplot(x=y,y=x)"
   ]
  },
  {
   "cell_type": "code",
   "execution_count": 104,
   "metadata": {},
   "outputs": [],
   "source": [
    "df['relevance']=df.relevance.map({'yes':1,'no':0})"
   ]
  },
  {
   "cell_type": "code",
   "execution_count": 105,
   "metadata": {},
   "outputs": [
    {
     "data": {
      "text/html": [
       "<div>\n",
       "<style scoped>\n",
       "    .dataframe tbody tr th:only-of-type {\n",
       "        vertical-align: middle;\n",
       "    }\n",
       "\n",
       "    .dataframe tbody tr th {\n",
       "        vertical-align: top;\n",
       "    }\n",
       "\n",
       "    .dataframe thead th {\n",
       "        text-align: right;\n",
       "    }\n",
       "</style>\n",
       "<table border=\"1\" class=\"dataframe\">\n",
       "  <thead>\n",
       "    <tr style=\"text-align: right;\">\n",
       "      <th></th>\n",
       "      <th>text</th>\n",
       "      <th>relevance</th>\n",
       "    </tr>\n",
       "  </thead>\n",
       "  <tbody>\n",
       "    <tr>\n",
       "      <th>0</th>\n",
       "      <td>NEW YORK -- Yields on most certificates of dep...</td>\n",
       "      <td>1</td>\n",
       "    </tr>\n",
       "    <tr>\n",
       "      <th>1</th>\n",
       "      <td>The Wall Street Journal Online&lt;/br&gt;&lt;/br&gt;The Mo...</td>\n",
       "      <td>0</td>\n",
       "    </tr>\n",
       "  </tbody>\n",
       "</table>\n",
       "</div>"
      ],
      "text/plain": [
       "                                                text  relevance\n",
       "0  NEW YORK -- Yields on most certificates of dep...          1\n",
       "1  The Wall Street Journal Online</br></br>The Mo...          0"
      ]
     },
     "execution_count": 105,
     "metadata": {},
     "output_type": "execute_result"
    }
   ],
   "source": [
    "df.head(2)"
   ]
  },
  {
   "cell_type": "code",
   "execution_count": 106,
   "metadata": {},
   "outputs": [],
   "source": [
    "# Convert the 'relevance' column to string type\n",
    "#df['relevance'] = df['relevance'].astype(str)\n",
    "\n",
    "# Convert the 'relevance' column to lowercase\n",
    "df['text'] = df['text'].str.lower().str.strip()\n"
   ]
  },
  {
   "cell_type": "code",
   "execution_count": 107,
   "metadata": {},
   "outputs": [
    {
     "data": {
      "text/plain": [
       "'new york -- yields on most certificates of deposit offered by major banks dropped more than a tenth of a percentage point in the latest week, reflecting the overall decline in short-term interest rates.</br></br>on small-denomination, or \"consumer,\" cds sold directly by banks, the average yield on six-month deposits fell to 5.49% from 5.62% in the week ended yesterday, according to an 18-bank survey by banxquote money markets, a wilmington, del., information service.</br></br>on three-month \"consumer\" deposits, the average yield sank to 5.29% from 5.42% the week before, according to banxquote. two banks in the banxquote survey, citibank in new york and corestates in pennsylvania, are paying less than 5% on threemonth small-denomination cds.</br></br>declines were somewhat smaller on five-year consumer cds, which eased to 7.37% from 7.45%, banxquote said.</br></br>yields on three-month and six-month treasury bills sold at monday\\'s auction plummeted more than a fifth of a percentage point from the previous week, to 5.46% and 5.63%, respectively.'"
      ]
     },
     "execution_count": 107,
     "metadata": {},
     "output_type": "execute_result"
    }
   ],
   "source": [
    "df['text'][0]"
   ]
  },
  {
   "cell_type": "code",
   "execution_count": 108,
   "metadata": {},
   "outputs": [],
   "source": [
    "# import spacy\n",
    "\n",
    "# # Download and install the English model\n",
    "# #!python -m spacy download en_core_web_sm\n",
    "\n",
    "# # Load the English tokenizer, tagger, parser, NER, and word vectors\n",
    "# nlp = spacy.load(\"en_core_web_sm\")\n",
    "\n",
    "# # Assuming df is your DataFrame and 'text' is the column containing text data\n",
    "# text = df['text']\n",
    "\n",
    "# # Process each document in the DataFrame using the loaded model\n",
    "# docs = [nlp(doc) for doc in text]\n",
    "\n",
    "# # Convert text to lowercase for each document\n",
    "# lowercase_texts = [doc.text.lower() for doc in docs]\n",
    "\n",
    "# # Print the lowercase text of the first document as an example\n",
    "# print(lowercase_texts[0])\n",
    "\n"
   ]
  },
  {
   "cell_type": "code",
   "execution_count": 109,
   "metadata": {},
   "outputs": [],
   "source": [
    "#lowercase_texts[2]"
   ]
  },
  {
   "cell_type": "code",
   "execution_count": 110,
   "metadata": {},
   "outputs": [
    {
     "data": {
      "text/plain": [
       "\"washington -- in an effort to achieve banking reform, senate negotiators and the bush administration have agreed to drop efforts to allow banks to expand further into the securities business.</br></br>the compromise is one of several the senate banking committee is pursuing to remove obstacles its banking bill will face when the senate starts voting on the measure, perhaps today. the latest version of the house banking bill also drops the administration's proposals to broaden bank entry into the securities business.</br></br>last night, the house began its second attempt to pass a banking bill after failing last week, in part because of disagreement over how to allow banks into the securities business. the house adopted on a voice vote provisions that would replenish the bank deposit insurance fund, tighten bank regulation, trim the scope of deposit insurance, and restrict the federal reserve board's ability to keep sick banks alive with loans.</br></br>but the house delayed until today a vote on an amendment to allow banks to branch nationwide and on final passage of the banking bill to give the house leadership and the administration more time to drum up support for the bill.</br></br>house speaker thomas foley (d., wash.) is working hard to win passage of the bill in the face of significant opposition from rep. john dingell (d., mich.), who believes the bill should include provisions imposing stiffer regulation on banks in the securities business.\""
      ]
     },
     "execution_count": 110,
     "metadata": {},
     "output_type": "execute_result"
    }
   ],
   "source": [
    "df['text'][2]"
   ]
  },
  {
   "cell_type": "code",
   "execution_count": 111,
   "metadata": {},
   "outputs": [
    {
     "name": "stdout",
     "output_type": "stream",
     "text": [
      "DataFrame before removing HTML tags:\n",
      "                                                   text  relevance\n",
      "0     new york -- yields on most certificates of dep...          1\n",
      "1     the wall street journal online</br></br>the mo...          0\n",
      "2     washington -- in an effort to achieve banking ...          0\n",
      "3     the statistics on the enormous costs of employ...          0\n",
      "4     new york -- indecision marked the dollar's ton...          1\n",
      "...                                                 ...        ...\n",
      "7995  secretary of commerce charles w. sawyer said y...          1\n",
      "7996  u.s. stocks inched up last week, overcoming co...          0\n",
      "7997  ben s. bernanke cleared a key hurdle thursday ...          0\n",
      "7998  the white house's push to contract out many fe...          0\n",
      "7999  new york. april 17-automobile stocks put on th...          0\n",
      "\n",
      "[7991 rows x 2 columns]\n",
      "\n",
      "DataFrame after removing HTML tags:\n",
      "                                                   text  relevance\n",
      "0     new york -- yields on most certificates of dep...          1\n",
      "1     the wall street journal onlinethe morning brie...          0\n",
      "2     washington -- in an effort to achieve banking ...          0\n",
      "3     the statistics on the enormous costs of employ...          0\n",
      "4     new york -- indecision marked the dollar's ton...          1\n",
      "...                                                 ...        ...\n",
      "7995  secretary of commerce charles w. sawyer said y...          1\n",
      "7996  u.s. stocks inched up last week, overcoming co...          0\n",
      "7997  ben s. bernanke cleared a key hurdle thursday ...          0\n",
      "7998  the white house's push to contract out many fe...          0\n",
      "7999  new york. april 17-automobile stocks put on th...          0\n",
      "\n",
      "[7991 rows x 2 columns]\n"
     ]
    }
   ],
   "source": [
    "\n",
    "# Function to remove HTML tags\n",
    "def remove_html_tags(text):\n",
    "    soup = BeautifulSoup(text, \"html.parser\")\n",
    "    return soup.get_text()\n",
    "\n",
    "# Print DataFrame before removing HTML tags\n",
    "print(\"DataFrame before removing HTML tags:\")\n",
    "print(df)\n",
    "\n",
    "# Apply the function to the entire DataFrame\n",
    "df['text'] = df['text'].apply(remove_html_tags)\n",
    "\n",
    "# Print DataFrame after removing HTML tags\n",
    "print(\"\\nDataFrame after removing HTML tags:\")\n",
    "print(df)\n"
   ]
  },
  {
   "cell_type": "code",
   "execution_count": 112,
   "metadata": {},
   "outputs": [
    {
     "data": {
      "text/plain": [
       "'new york -- yields on most certificates of deposit offered by major banks dropped more than a tenth of a percentage point in the latest week, reflecting the overall decline in short-term interest rates.on small-denomination, or \"consumer,\" cds sold directly by banks, the average yield on six-month deposits fell to 5.49% from 5.62% in the week ended yesterday, according to an 18-bank survey by banxquote money markets, a wilmington, del., information service.on three-month \"consumer\" deposits, the average yield sank to 5.29% from 5.42% the week before, according to banxquote. two banks in the banxquote survey, citibank in new york and corestates in pennsylvania, are paying less than 5% on threemonth small-denomination cds.declines were somewhat smaller on five-year consumer cds, which eased to 7.37% from 7.45%, banxquote said.yields on three-month and six-month treasury bills sold at monday\\'s auction plummeted more than a fifth of a percentage point from the previous week, to 5.46% and 5.63%, respectively.'"
      ]
     },
     "execution_count": 112,
     "metadata": {},
     "output_type": "execute_result"
    }
   ],
   "source": [
    "df['text'][0]"
   ]
  },
  {
   "cell_type": "code",
   "execution_count": 113,
   "metadata": {},
   "outputs": [
    {
     "name": "stdout",
     "output_type": "stream",
     "text": [
      "DataFrame before removing URLs:\n",
      "                                                   text  relevance\n",
      "0     new york -- yields on most certificates of dep...          1\n",
      "1     the wall street journal onlinethe morning brie...          0\n",
      "2     washington -- in an effort to achieve banking ...          0\n",
      "3     the statistics on the enormous costs of employ...          0\n",
      "4     new york -- indecision marked the dollar's ton...          1\n",
      "...                                                 ...        ...\n",
      "7995  secretary of commerce charles w. sawyer said y...          1\n",
      "7996  u.s. stocks inched up last week, overcoming co...          0\n",
      "7997  ben s. bernanke cleared a key hurdle thursday ...          0\n",
      "7998  the white house's push to contract out many fe...          0\n",
      "7999  new york. april 17-automobile stocks put on th...          0\n",
      "\n",
      "[7991 rows x 2 columns]\n",
      "\n",
      "DataFrame after removing URLs:\n",
      "                                                   text  relevance\n",
      "0     new york -- yields on most certificates of dep...          1\n",
      "1     the wall street journal onlinethe morning brie...          0\n",
      "2     washington -- in an effort to achieve banking ...          0\n",
      "3     the statistics on the enormous costs of employ...          0\n",
      "4     new york -- indecision marked the dollar's ton...          1\n",
      "...                                                 ...        ...\n",
      "7995  secretary of commerce charles w. sawyer said y...          1\n",
      "7996  u.s. stocks inched up last week, overcoming co...          0\n",
      "7997  ben s. bernanke cleared a key hurdle thursday ...          0\n",
      "7998  the white house's push to contract out many fe...          0\n",
      "7999  new york. april 17-automobile stocks put on th...          0\n",
      "\n",
      "[7991 rows x 2 columns]\n"
     ]
    }
   ],
   "source": [
    "# Function to remove URLs using regular expressions\n",
    "def remove_urls(text):\n",
    "    return re.sub(r'http\\S+|www\\S+', '', text)\n",
    "\n",
    "# Print DataFrame before removing URLs\n",
    "print(\"DataFrame before removing URLs:\")\n",
    "print(df)\n",
    "\n",
    "# Apply the function to the entire DataFrame\n",
    "df['text'] = df['text'].apply(remove_urls)\n",
    "\n",
    "# Print DataFrame after removing URLs\n",
    "print(\"\\nDataFrame after removing URLs:\")\n",
    "print(df)\n"
   ]
  },
  {
   "cell_type": "code",
   "execution_count": 114,
   "metadata": {},
   "outputs": [],
   "source": [
    "exclude=string.punctuation"
   ]
  },
  {
   "cell_type": "code",
   "execution_count": 115,
   "metadata": {},
   "outputs": [
    {
     "data": {
      "text/plain": [
       "'!\"#$%&\\'()*+,-./:;<=>?@[\\\\]^_`{|}~'"
      ]
     },
     "execution_count": 115,
     "metadata": {},
     "output_type": "execute_result"
    }
   ],
   "source": [
    "exclude"
   ]
  },
  {
   "cell_type": "code",
   "execution_count": 116,
   "metadata": {},
   "outputs": [],
   "source": [
    "\n",
    "\n",
    "# # Function to remove punctuations\n",
    "# def remove_pun(text):\n",
    "#     exclude = set(string.punctuation)\n",
    "#     for char in exclude:\n",
    "#         text = text.replace(char, '')\n",
    "#     return text\n",
    "\n",
    "# # Print DataFrame before removing punctuations\n",
    "# print(\"DataFrame before removing punctuations:\")\n",
    "# print(df)\n",
    "\n",
    "# # Apply the function to the entire DataFrame\n",
    "# df['text'] = df['text'].apply(remove_pun)\n",
    "\n",
    "# # Print DataFrame after removing punctuations\n",
    "# print(\"\\nDataFrame after removing punctuations:\")\n",
    "# print(df)\n"
   ]
  },
  {
   "cell_type": "code",
   "execution_count": 117,
   "metadata": {},
   "outputs": [
    {
     "data": {
      "text/plain": [
       "'new york -- yields on most certificates of deposit offered by major banks dropped more than a tenth of a percentage point in the latest week, reflecting the overall decline in short-term interest rates.on small-denomination, or \"consumer,\" cds sold directly by banks, the average yield on six-month deposits fell to 5.49% from 5.62% in the week ended yesterday, according to an 18-bank survey by banxquote money markets, a wilmington, del., information service.on three-month \"consumer\" deposits, the average yield sank to 5.29% from 5.42% the week before, according to banxquote. two banks in the banxquote survey, citibank in new york and corestates in pennsylvania, are paying less than 5% on threemonth small-denomination cds.declines were somewhat smaller on five-year consumer cds, which eased to 7.37% from 7.45%, banxquote said.yields on three-month and six-month treasury bills sold at monday\\'s auction plummeted more than a fifth of a percentage point from the previous week, to 5.46% and 5.63%, respectively.'"
      ]
     },
     "execution_count": 117,
     "metadata": {},
     "output_type": "execute_result"
    }
   ],
   "source": [
    "df['text'][0]"
   ]
  },
  {
   "cell_type": "code",
   "execution_count": 118,
   "metadata": {},
   "outputs": [
    {
     "name": "stdout",
     "output_type": "stream",
     "text": [
      "DataFrame before removing punctuations and digits:\n",
      "                                                   text  relevance\n",
      "0     new york -- yields on most certificates of dep...          1\n",
      "1     the wall street journal onlinethe morning brie...          0\n",
      "2     washington -- in an effort to achieve banking ...          0\n",
      "3     the statistics on the enormous costs of employ...          0\n",
      "4     new york -- indecision marked the dollar's ton...          1\n",
      "...                                                 ...        ...\n",
      "7995  secretary of commerce charles w. sawyer said y...          1\n",
      "7996  u.s. stocks inched up last week, overcoming co...          0\n",
      "7997  ben s. bernanke cleared a key hurdle thursday ...          0\n",
      "7998  the white house's push to contract out many fe...          0\n",
      "7999  new york. april 17-automobile stocks put on th...          0\n",
      "\n",
      "[7991 rows x 2 columns]\n",
      "\n",
      "DataFrame after removing punctuations and digits:\n",
      "                                                   text  relevance\n",
      "0     new york    yields on most certificates of dep...          1\n",
      "1     the wall street journal onlinethe morning brie...          0\n",
      "2     washington    in an effort to achieve banking ...          0\n",
      "3     the statistics on the enormous costs of employ...          0\n",
      "4     new york    indecision marked the dollar s ton...          1\n",
      "...                                                 ...        ...\n",
      "7995  secretary of commerce charles w  sawyer said y...          1\n",
      "7996  u s  stocks inched up last week  overcoming co...          0\n",
      "7997  ben s  bernanke cleared a key hurdle thursday ...          0\n",
      "7998  the white house s push to contract out many fe...          0\n",
      "7999  new york  april    automobile stocks put on th...          0\n",
      "\n",
      "[7991 rows x 2 columns]\n"
     ]
    }
   ],
   "source": [
    "\n",
    "\n",
    "# Function to remove punctuations and digits\n",
    "def remove_pun_and_digits(text):\n",
    "    exclude = set(string.punctuation)\n",
    "    exclude.update(string.digits)\n",
    "    for char in exclude:\n",
    "        text = text.replace(char, ' ')\n",
    "    return text\n",
    "\n",
    "# Print DataFrame before removing punctuations and digits\n",
    "print(\"DataFrame before removing punctuations and digits:\")\n",
    "print(df)\n",
    "\n",
    "# Apply the function to the entire DataFrame\n",
    "df['text'] = df['text'].apply(remove_pun_and_digits)\n",
    "\n",
    "# Print DataFrame after removing punctuations and digits\n",
    "print(\"\\nDataFrame after removing punctuations and digits:\")\n",
    "print(df)\n"
   ]
  },
  {
   "cell_type": "code",
   "execution_count": 119,
   "metadata": {},
   "outputs": [
    {
     "data": {
      "text/plain": [
       "'new york    yields on most certificates of deposit offered by major banks dropped more than a tenth of a percentage point in the latest week  reflecting the overall decline in short term interest rates on small denomination  or  consumer   cds sold directly by banks  the average yield on six month deposits fell to       from       in the week ended yesterday  according to an    bank survey by banxquote money markets  a wilmington  del   information service on three month  consumer  deposits  the average yield sank to       from       the week before  according to banxquote  two banks in the banxquote survey  citibank in new york and corestates in pennsylvania  are paying less than    on threemonth small denomination cds declines were somewhat smaller on five year consumer cds  which eased to       from        banxquote said yields on three month and six month treasury bills sold at monday s auction plummeted more than a fifth of a percentage point from the previous week  to       and        respectively '"
      ]
     },
     "execution_count": 119,
     "metadata": {},
     "output_type": "execute_result"
    }
   ],
   "source": [
    "df['text'][0]"
   ]
  },
  {
   "cell_type": "code",
   "execution_count": 120,
   "metadata": {},
   "outputs": [
    {
     "data": {
      "text/plain": [
       "'the wall street journal onlinethe morning brief  a look at the day s biggest news  is emailed to subscribers by   a m  every business day  sign up for the e mail here on friday evening  with congress out of town on its summer recess and americans heading into a mid august weekend  the bush administration sent a message to the states  the federal government will make it tougher for a national children s insurance program to cover the offspring of middle income families the state children s health insurance program was created in      to help children whose families couldn t afford insurance but didn t qualify for medicaid  and administration officials tell the new york times that the changes are aimed at returning the program to its low  income focus and assuring it didn t become a replacement for private insurance  administration point man dennis smith wrote to state officials saying there would be new restrictions on the district of columbia and the    states    including california and new york    that extend or plan to extend coverage for children whose families make more than      of federal poverty levels  for a family of three that      is          and for a family of four it s          under the new limits  a child from a family making more would have to spend one year uninsured before qualifying  and any state that wants to extend coverage would have to assure washington that at least     of children eligible for schip or medicaid are enrolled in one of the programs  but as the associated press reports  no state can currently make such assurances rachel klein  deputy director of health policy for advocacy group families usa  tells the ap that since many families above the      threshold can t afford private insurance   the effect of this policy is to have more uninsured kids   ann clemency kohler  deputy commissioner of human services in new jersey  tells the times the changes  will cause havoc with our program and could jeopardize coverage for thousands of children   states have already been imposing waiting periods and taking other steps to prevent parents from moving their children from private insurance to schip  which currently serves some     million children  the washington post notes  the administration s new restrictions come as the program  which expires at the end of next month if congress doesn t reauthorize it  is the subject of a larger political fight that pits the white house against democrats and some republicans in congress and state capitals '"
      ]
     },
     "execution_count": 120,
     "metadata": {},
     "output_type": "execute_result"
    }
   ],
   "source": [
    "df['text'][1]"
   ]
  },
  {
   "cell_type": "code",
   "execution_count": 121,
   "metadata": {},
   "outputs": [],
   "source": [
    "# # Download the stopwords corpus if you haven't already\n",
    "# nltk.download('stopwords')\n",
    "\n",
    "# #\n",
    "\n",
    "# # Function to remove stop words\n",
    "# def remove_stop_words(text):\n",
    "#     stop_words = set(stopwords.words('english'))\n",
    "#     words = text.split()\n",
    "#     filtered_words = [word for word in words if word.lower() not in stop_words]\n",
    "#     return ' '.join(filtered_words)\n",
    "\n",
    "# # Print DataFrame before removing stop words\n",
    "# print(\"DataFrame before removing stop words:\")\n",
    "# print(df)\n",
    "\n",
    "# # Apply the function to the entire DataFrame\n",
    "# df['text'] = df['text'].apply(remove_stop_words)\n",
    "\n",
    "# # Print DataFrame after removing stop words\n",
    "# print(\"\\nDataFrame after removing stop words:\")\n",
    "# print(df)\n"
   ]
  },
  {
   "cell_type": "code",
   "execution_count": 122,
   "metadata": {},
   "outputs": [
    {
     "data": {
      "text/plain": [
       "'the wall street journal onlinethe morning brief  a look at the day s biggest news  is emailed to subscribers by   a m  every business day  sign up for the e mail here on friday evening  with congress out of town on its summer recess and americans heading into a mid august weekend  the bush administration sent a message to the states  the federal government will make it tougher for a national children s insurance program to cover the offspring of middle income families the state children s health insurance program was created in      to help children whose families couldn t afford insurance but didn t qualify for medicaid  and administration officials tell the new york times that the changes are aimed at returning the program to its low  income focus and assuring it didn t become a replacement for private insurance  administration point man dennis smith wrote to state officials saying there would be new restrictions on the district of columbia and the    states    including california and new york    that extend or plan to extend coverage for children whose families make more than      of federal poverty levels  for a family of three that      is          and for a family of four it s          under the new limits  a child from a family making more would have to spend one year uninsured before qualifying  and any state that wants to extend coverage would have to assure washington that at least     of children eligible for schip or medicaid are enrolled in one of the programs  but as the associated press reports  no state can currently make such assurances rachel klein  deputy director of health policy for advocacy group families usa  tells the ap that since many families above the      threshold can t afford private insurance   the effect of this policy is to have more uninsured kids   ann clemency kohler  deputy commissioner of human services in new jersey  tells the times the changes  will cause havoc with our program and could jeopardize coverage for thousands of children   states have already been imposing waiting periods and taking other steps to prevent parents from moving their children from private insurance to schip  which currently serves some     million children  the washington post notes  the administration s new restrictions come as the program  which expires at the end of next month if congress doesn t reauthorize it  is the subject of a larger political fight that pits the white house against democrats and some republicans in congress and state capitals '"
      ]
     },
     "execution_count": 122,
     "metadata": {},
     "output_type": "execute_result"
    }
   ],
   "source": [
    "df['text'][1]"
   ]
  },
  {
   "cell_type": "code",
   "execution_count": 123,
   "metadata": {},
   "outputs": [
    {
     "name": "stdout",
     "output_type": "stream",
     "text": [
      "DataFrame before preprocessing:\n",
      "                                                   text  relevance\n",
      "0     new york    yields on most certificates of dep...          1\n",
      "1     the wall street journal onlinethe morning brie...          0\n",
      "2     washington    in an effort to achieve banking ...          0\n",
      "3     the statistics on the enormous costs of employ...          0\n",
      "4     new york    indecision marked the dollar s ton...          1\n",
      "...                                                 ...        ...\n",
      "7995  secretary of commerce charles w  sawyer said y...          1\n",
      "7996  u s  stocks inched up last week  overcoming co...          0\n",
      "7997  ben s  bernanke cleared a key hurdle thursday ...          0\n",
      "7998  the white house s push to contract out many fe...          0\n",
      "7999  new york  april    automobile stocks put on th...          0\n",
      "\n",
      "[7991 rows x 2 columns]\n",
      "\n",
      "DataFrame after preprocessing:\n",
      "                                                   text  relevance\n",
      "0     new york yield certificate deposit offered maj...          1\n",
      "1     wall street journal onlinethe morning brief lo...          0\n",
      "2     washington effort achieve banking reform senat...          0\n",
      "3     statistic enormous cost employee drug abuse we...          0\n",
      "4     new york indecision marked dollar tone trader ...          1\n",
      "...                                                 ...        ...\n",
      "7995  secretary commerce charles w sawyer said yeste...          1\n",
      "7996  u stock inched last week overcoming concern cr...          0\n",
      "7997  ben bernanke cleared key hurdle thursday confi...          0\n",
      "7998  white house push contract many federal functio...          0\n",
      "7999  new york april automobile stock put best show ...          0\n",
      "\n",
      "[7991 rows x 2 columns]\n"
     ]
    }
   ],
   "source": [
    "# Function to remove stop words and apply lemmatization\n",
    "def preprocess_text(text):\n",
    "    stop_words = set(stopwords.words('english'))\n",
    "    lemmatizer = WordNetLemmatizer()\n",
    "    \n",
    "    words = nltk.word_tokenize(text)\n",
    "    filtered_words = [word for word in words if word.lower() not in stop_words]\n",
    "    lemmatized_words = [lemmatizer.lemmatize(word) for word in filtered_words]\n",
    "    \n",
    "    return ' '.join(lemmatized_words)\n",
    "\n",
    "# Print DataFrame before preprocessing\n",
    "print(\"DataFrame before preprocessing:\")\n",
    "print(df)\n",
    "\n",
    "# Apply the function to the entire DataFrame\n",
    "df['text'] = df['text'].apply(preprocess_text)\n",
    "\n",
    "# Print DataFrame after preprocessing\n",
    "print(\"\\nDataFrame after preprocessing:\")\n",
    "print(df)\n"
   ]
  },
  {
   "cell_type": "code",
   "execution_count": 124,
   "metadata": {},
   "outputs": [
    {
     "data": {
      "text/plain": [
       "'new york yield certificate deposit offered major bank dropped tenth percentage point latest week reflecting overall decline short term interest rate small denomination consumer cd sold directly bank average yield six month deposit fell week ended yesterday according bank survey banxquote money market wilmington del information service three month consumer deposit average yield sank week according banxquote two bank banxquote survey citibank new york corestates pennsylvania paying le threemonth small denomination cd decline somewhat smaller five year consumer cd eased banxquote said yield three month six month treasury bill sold monday auction plummeted fifth percentage point previous week respectively'"
      ]
     },
     "execution_count": 124,
     "metadata": {},
     "output_type": "execute_result"
    }
   ],
   "source": [
    "df['text'][0]"
   ]
  },
  {
   "cell_type": "code",
   "execution_count": 125,
   "metadata": {},
   "outputs": [
    {
     "data": {
      "text/html": [
       "<div>\n",
       "<style scoped>\n",
       "    .dataframe tbody tr th:only-of-type {\n",
       "        vertical-align: middle;\n",
       "    }\n",
       "\n",
       "    .dataframe tbody tr th {\n",
       "        vertical-align: top;\n",
       "    }\n",
       "\n",
       "    .dataframe thead th {\n",
       "        text-align: right;\n",
       "    }\n",
       "</style>\n",
       "<table border=\"1\" class=\"dataframe\">\n",
       "  <thead>\n",
       "    <tr style=\"text-align: right;\">\n",
       "      <th></th>\n",
       "      <th>text</th>\n",
       "      <th>relevance</th>\n",
       "    </tr>\n",
       "  </thead>\n",
       "  <tbody>\n",
       "    <tr>\n",
       "      <th>0</th>\n",
       "      <td>new york yield certificate deposit offered maj...</td>\n",
       "      <td>1</td>\n",
       "    </tr>\n",
       "    <tr>\n",
       "      <th>1</th>\n",
       "      <td>wall street journal onlinethe morning brief lo...</td>\n",
       "      <td>0</td>\n",
       "    </tr>\n",
       "    <tr>\n",
       "      <th>2</th>\n",
       "      <td>washington effort achieve banking reform senat...</td>\n",
       "      <td>0</td>\n",
       "    </tr>\n",
       "    <tr>\n",
       "      <th>3</th>\n",
       "      <td>statistic enormous cost employee drug abuse we...</td>\n",
       "      <td>0</td>\n",
       "    </tr>\n",
       "    <tr>\n",
       "      <th>4</th>\n",
       "      <td>new york indecision marked dollar tone trader ...</td>\n",
       "      <td>1</td>\n",
       "    </tr>\n",
       "  </tbody>\n",
       "</table>\n",
       "</div>"
      ],
      "text/plain": [
       "                                                text  relevance\n",
       "0  new york yield certificate deposit offered maj...          1\n",
       "1  wall street journal onlinethe morning brief lo...          0\n",
       "2  washington effort achieve banking reform senat...          0\n",
       "3  statistic enormous cost employee drug abuse we...          0\n",
       "4  new york indecision marked dollar tone trader ...          1"
      ]
     },
     "execution_count": 125,
     "metadata": {},
     "output_type": "execute_result"
    }
   ],
   "source": [
    "df.head()"
   ]
  },
  {
   "cell_type": "code",
   "execution_count": 126,
   "metadata": {},
   "outputs": [
    {
     "data": {
      "text/plain": [
       "'new york indecision marked dollar tone trader paused breath awaiting critical monthly u employment report release today dollar ended new york day slightly weaker euro yen market participant also reluctant make major bet yen following stream rigorous sounding statement top japanese official issue bank reform late yesterday afternoon new york euro cent slightly stronger cent level late wednesday yen dollar trading yen modestly yen swiss franc dollar franc unchanged sterling changing hand euro managed raise head briefly cent new york trade first time roughly four week taking advantage softness stock market worry state u economic recovery ahead employment report'"
      ]
     },
     "execution_count": 126,
     "metadata": {},
     "output_type": "execute_result"
    }
   ],
   "source": [
    "df['text'][4]"
   ]
  },
  {
   "cell_type": "code",
   "execution_count": 127,
   "metadata": {},
   "outputs": [],
   "source": [
    "#df=df[:1000]"
   ]
  },
  {
   "cell_type": "code",
   "execution_count": 128,
   "metadata": {},
   "outputs": [],
   "source": [
    "docs = list(df['text'])\n",
    "tfidf_vectorizer = TfidfVectorizer(use_idf=True, max_features = 20000) \n",
    "tfidf_vectorizer_vectors = tfidf_vectorizer.fit_transform(docs)\n",
    "docs = tfidf_vectorizer_vectors.toarray()"
   ]
  },
  {
   "cell_type": "code",
   "execution_count": 129,
   "metadata": {},
   "outputs": [
    {
     "name": "stdout",
     "output_type": "stream",
     "text": [
      "(7991, 20000) (7991,)\n"
     ]
    }
   ],
   "source": [
    "X=docs\n",
    "y=df['relevance']\n",
    "print(X.shape,y.shape)"
   ]
  },
  {
   "cell_type": "code",
   "execution_count": 130,
   "metadata": {},
   "outputs": [
    {
     "data": {
      "text/plain": [
       "array([[0., 0., 0., ..., 0., 0., 0.],\n",
       "       [0., 0., 0., ..., 0., 0., 0.],\n",
       "       [0., 0., 0., ..., 0., 0., 0.],\n",
       "       ...,\n",
       "       [0., 0., 0., ..., 0., 0., 0.],\n",
       "       [0., 0., 0., ..., 0., 0., 0.],\n",
       "       [0., 0., 0., ..., 0., 0., 0.]])"
      ]
     },
     "execution_count": 130,
     "metadata": {},
     "output_type": "execute_result"
    }
   ],
   "source": [
    "X"
   ]
  },
  {
   "cell_type": "code",
   "execution_count": 131,
   "metadata": {},
   "outputs": [
    {
     "data": {
      "application/vnd.plotly.v1+json": {
       "config": {
        "plotlyServerURL": "https://plot.ly"
       },
       "data": [
        {
         "type": "bar",
         "x": [
          0,
          1
         ],
         "y": [
          6571,
          1420
         ]
        }
       ],
       "layout": {
        "template": {
         "data": {
          "bar": [
           {
            "error_x": {
             "color": "#2a3f5f"
            },
            "error_y": {
             "color": "#2a3f5f"
            },
            "marker": {
             "line": {
              "color": "#E5ECF6",
              "width": 0.5
             },
             "pattern": {
              "fillmode": "overlay",
              "size": 10,
              "solidity": 0.2
             }
            },
            "type": "bar"
           }
          ],
          "barpolar": [
           {
            "marker": {
             "line": {
              "color": "#E5ECF6",
              "width": 0.5
             },
             "pattern": {
              "fillmode": "overlay",
              "size": 10,
              "solidity": 0.2
             }
            },
            "type": "barpolar"
           }
          ],
          "carpet": [
           {
            "aaxis": {
             "endlinecolor": "#2a3f5f",
             "gridcolor": "white",
             "linecolor": "white",
             "minorgridcolor": "white",
             "startlinecolor": "#2a3f5f"
            },
            "baxis": {
             "endlinecolor": "#2a3f5f",
             "gridcolor": "white",
             "linecolor": "white",
             "minorgridcolor": "white",
             "startlinecolor": "#2a3f5f"
            },
            "type": "carpet"
           }
          ],
          "choropleth": [
           {
            "colorbar": {
             "outlinewidth": 0,
             "ticks": ""
            },
            "type": "choropleth"
           }
          ],
          "contour": [
           {
            "colorbar": {
             "outlinewidth": 0,
             "ticks": ""
            },
            "colorscale": [
             [
              0,
              "#0d0887"
             ],
             [
              0.1111111111111111,
              "#46039f"
             ],
             [
              0.2222222222222222,
              "#7201a8"
             ],
             [
              0.3333333333333333,
              "#9c179e"
             ],
             [
              0.4444444444444444,
              "#bd3786"
             ],
             [
              0.5555555555555556,
              "#d8576b"
             ],
             [
              0.6666666666666666,
              "#ed7953"
             ],
             [
              0.7777777777777778,
              "#fb9f3a"
             ],
             [
              0.8888888888888888,
              "#fdca26"
             ],
             [
              1,
              "#f0f921"
             ]
            ],
            "type": "contour"
           }
          ],
          "contourcarpet": [
           {
            "colorbar": {
             "outlinewidth": 0,
             "ticks": ""
            },
            "type": "contourcarpet"
           }
          ],
          "heatmap": [
           {
            "colorbar": {
             "outlinewidth": 0,
             "ticks": ""
            },
            "colorscale": [
             [
              0,
              "#0d0887"
             ],
             [
              0.1111111111111111,
              "#46039f"
             ],
             [
              0.2222222222222222,
              "#7201a8"
             ],
             [
              0.3333333333333333,
              "#9c179e"
             ],
             [
              0.4444444444444444,
              "#bd3786"
             ],
             [
              0.5555555555555556,
              "#d8576b"
             ],
             [
              0.6666666666666666,
              "#ed7953"
             ],
             [
              0.7777777777777778,
              "#fb9f3a"
             ],
             [
              0.8888888888888888,
              "#fdca26"
             ],
             [
              1,
              "#f0f921"
             ]
            ],
            "type": "heatmap"
           }
          ],
          "heatmapgl": [
           {
            "colorbar": {
             "outlinewidth": 0,
             "ticks": ""
            },
            "colorscale": [
             [
              0,
              "#0d0887"
             ],
             [
              0.1111111111111111,
              "#46039f"
             ],
             [
              0.2222222222222222,
              "#7201a8"
             ],
             [
              0.3333333333333333,
              "#9c179e"
             ],
             [
              0.4444444444444444,
              "#bd3786"
             ],
             [
              0.5555555555555556,
              "#d8576b"
             ],
             [
              0.6666666666666666,
              "#ed7953"
             ],
             [
              0.7777777777777778,
              "#fb9f3a"
             ],
             [
              0.8888888888888888,
              "#fdca26"
             ],
             [
              1,
              "#f0f921"
             ]
            ],
            "type": "heatmapgl"
           }
          ],
          "histogram": [
           {
            "marker": {
             "pattern": {
              "fillmode": "overlay",
              "size": 10,
              "solidity": 0.2
             }
            },
            "type": "histogram"
           }
          ],
          "histogram2d": [
           {
            "colorbar": {
             "outlinewidth": 0,
             "ticks": ""
            },
            "colorscale": [
             [
              0,
              "#0d0887"
             ],
             [
              0.1111111111111111,
              "#46039f"
             ],
             [
              0.2222222222222222,
              "#7201a8"
             ],
             [
              0.3333333333333333,
              "#9c179e"
             ],
             [
              0.4444444444444444,
              "#bd3786"
             ],
             [
              0.5555555555555556,
              "#d8576b"
             ],
             [
              0.6666666666666666,
              "#ed7953"
             ],
             [
              0.7777777777777778,
              "#fb9f3a"
             ],
             [
              0.8888888888888888,
              "#fdca26"
             ],
             [
              1,
              "#f0f921"
             ]
            ],
            "type": "histogram2d"
           }
          ],
          "histogram2dcontour": [
           {
            "colorbar": {
             "outlinewidth": 0,
             "ticks": ""
            },
            "colorscale": [
             [
              0,
              "#0d0887"
             ],
             [
              0.1111111111111111,
              "#46039f"
             ],
             [
              0.2222222222222222,
              "#7201a8"
             ],
             [
              0.3333333333333333,
              "#9c179e"
             ],
             [
              0.4444444444444444,
              "#bd3786"
             ],
             [
              0.5555555555555556,
              "#d8576b"
             ],
             [
              0.6666666666666666,
              "#ed7953"
             ],
             [
              0.7777777777777778,
              "#fb9f3a"
             ],
             [
              0.8888888888888888,
              "#fdca26"
             ],
             [
              1,
              "#f0f921"
             ]
            ],
            "type": "histogram2dcontour"
           }
          ],
          "mesh3d": [
           {
            "colorbar": {
             "outlinewidth": 0,
             "ticks": ""
            },
            "type": "mesh3d"
           }
          ],
          "parcoords": [
           {
            "line": {
             "colorbar": {
              "outlinewidth": 0,
              "ticks": ""
             }
            },
            "type": "parcoords"
           }
          ],
          "pie": [
           {
            "automargin": true,
            "type": "pie"
           }
          ],
          "scatter": [
           {
            "fillpattern": {
             "fillmode": "overlay",
             "size": 10,
             "solidity": 0.2
            },
            "type": "scatter"
           }
          ],
          "scatter3d": [
           {
            "line": {
             "colorbar": {
              "outlinewidth": 0,
              "ticks": ""
             }
            },
            "marker": {
             "colorbar": {
              "outlinewidth": 0,
              "ticks": ""
             }
            },
            "type": "scatter3d"
           }
          ],
          "scattercarpet": [
           {
            "marker": {
             "colorbar": {
              "outlinewidth": 0,
              "ticks": ""
             }
            },
            "type": "scattercarpet"
           }
          ],
          "scattergeo": [
           {
            "marker": {
             "colorbar": {
              "outlinewidth": 0,
              "ticks": ""
             }
            },
            "type": "scattergeo"
           }
          ],
          "scattergl": [
           {
            "marker": {
             "colorbar": {
              "outlinewidth": 0,
              "ticks": ""
             }
            },
            "type": "scattergl"
           }
          ],
          "scattermapbox": [
           {
            "marker": {
             "colorbar": {
              "outlinewidth": 0,
              "ticks": ""
             }
            },
            "type": "scattermapbox"
           }
          ],
          "scatterpolar": [
           {
            "marker": {
             "colorbar": {
              "outlinewidth": 0,
              "ticks": ""
             }
            },
            "type": "scatterpolar"
           }
          ],
          "scatterpolargl": [
           {
            "marker": {
             "colorbar": {
              "outlinewidth": 0,
              "ticks": ""
             }
            },
            "type": "scatterpolargl"
           }
          ],
          "scatterternary": [
           {
            "marker": {
             "colorbar": {
              "outlinewidth": 0,
              "ticks": ""
             }
            },
            "type": "scatterternary"
           }
          ],
          "surface": [
           {
            "colorbar": {
             "outlinewidth": 0,
             "ticks": ""
            },
            "colorscale": [
             [
              0,
              "#0d0887"
             ],
             [
              0.1111111111111111,
              "#46039f"
             ],
             [
              0.2222222222222222,
              "#7201a8"
             ],
             [
              0.3333333333333333,
              "#9c179e"
             ],
             [
              0.4444444444444444,
              "#bd3786"
             ],
             [
              0.5555555555555556,
              "#d8576b"
             ],
             [
              0.6666666666666666,
              "#ed7953"
             ],
             [
              0.7777777777777778,
              "#fb9f3a"
             ],
             [
              0.8888888888888888,
              "#fdca26"
             ],
             [
              1,
              "#f0f921"
             ]
            ],
            "type": "surface"
           }
          ],
          "table": [
           {
            "cells": {
             "fill": {
              "color": "#EBF0F8"
             },
             "line": {
              "color": "white"
             }
            },
            "header": {
             "fill": {
              "color": "#C8D4E3"
             },
             "line": {
              "color": "white"
             }
            },
            "type": "table"
           }
          ]
         },
         "layout": {
          "annotationdefaults": {
           "arrowcolor": "#2a3f5f",
           "arrowhead": 0,
           "arrowwidth": 1
          },
          "autotypenumbers": "strict",
          "coloraxis": {
           "colorbar": {
            "outlinewidth": 0,
            "ticks": ""
           }
          },
          "colorscale": {
           "diverging": [
            [
             0,
             "#8e0152"
            ],
            [
             0.1,
             "#c51b7d"
            ],
            [
             0.2,
             "#de77ae"
            ],
            [
             0.3,
             "#f1b6da"
            ],
            [
             0.4,
             "#fde0ef"
            ],
            [
             0.5,
             "#f7f7f7"
            ],
            [
             0.6,
             "#e6f5d0"
            ],
            [
             0.7,
             "#b8e186"
            ],
            [
             0.8,
             "#7fbc41"
            ],
            [
             0.9,
             "#4d9221"
            ],
            [
             1,
             "#276419"
            ]
           ],
           "sequential": [
            [
             0,
             "#0d0887"
            ],
            [
             0.1111111111111111,
             "#46039f"
            ],
            [
             0.2222222222222222,
             "#7201a8"
            ],
            [
             0.3333333333333333,
             "#9c179e"
            ],
            [
             0.4444444444444444,
             "#bd3786"
            ],
            [
             0.5555555555555556,
             "#d8576b"
            ],
            [
             0.6666666666666666,
             "#ed7953"
            ],
            [
             0.7777777777777778,
             "#fb9f3a"
            ],
            [
             0.8888888888888888,
             "#fdca26"
            ],
            [
             1,
             "#f0f921"
            ]
           ],
           "sequentialminus": [
            [
             0,
             "#0d0887"
            ],
            [
             0.1111111111111111,
             "#46039f"
            ],
            [
             0.2222222222222222,
             "#7201a8"
            ],
            [
             0.3333333333333333,
             "#9c179e"
            ],
            [
             0.4444444444444444,
             "#bd3786"
            ],
            [
             0.5555555555555556,
             "#d8576b"
            ],
            [
             0.6666666666666666,
             "#ed7953"
            ],
            [
             0.7777777777777778,
             "#fb9f3a"
            ],
            [
             0.8888888888888888,
             "#fdca26"
            ],
            [
             1,
             "#f0f921"
            ]
           ]
          },
          "colorway": [
           "#636efa",
           "#EF553B",
           "#00cc96",
           "#ab63fa",
           "#FFA15A",
           "#19d3f3",
           "#FF6692",
           "#B6E880",
           "#FF97FF",
           "#FECB52"
          ],
          "font": {
           "color": "#2a3f5f"
          },
          "geo": {
           "bgcolor": "white",
           "lakecolor": "white",
           "landcolor": "#E5ECF6",
           "showlakes": true,
           "showland": true,
           "subunitcolor": "white"
          },
          "hoverlabel": {
           "align": "left"
          },
          "hovermode": "closest",
          "mapbox": {
           "style": "light"
          },
          "paper_bgcolor": "white",
          "plot_bgcolor": "#E5ECF6",
          "polar": {
           "angularaxis": {
            "gridcolor": "white",
            "linecolor": "white",
            "ticks": ""
           },
           "bgcolor": "#E5ECF6",
           "radialaxis": {
            "gridcolor": "white",
            "linecolor": "white",
            "ticks": ""
           }
          },
          "scene": {
           "xaxis": {
            "backgroundcolor": "#E5ECF6",
            "gridcolor": "white",
            "gridwidth": 2,
            "linecolor": "white",
            "showbackground": true,
            "ticks": "",
            "zerolinecolor": "white"
           },
           "yaxis": {
            "backgroundcolor": "#E5ECF6",
            "gridcolor": "white",
            "gridwidth": 2,
            "linecolor": "white",
            "showbackground": true,
            "ticks": "",
            "zerolinecolor": "white"
           },
           "zaxis": {
            "backgroundcolor": "#E5ECF6",
            "gridcolor": "white",
            "gridwidth": 2,
            "linecolor": "white",
            "showbackground": true,
            "ticks": "",
            "zerolinecolor": "white"
           }
          },
          "shapedefaults": {
           "line": {
            "color": "#2a3f5f"
           }
          },
          "ternary": {
           "aaxis": {
            "gridcolor": "white",
            "linecolor": "white",
            "ticks": ""
           },
           "baxis": {
            "gridcolor": "white",
            "linecolor": "white",
            "ticks": ""
           },
           "bgcolor": "#E5ECF6",
           "caxis": {
            "gridcolor": "white",
            "linecolor": "white",
            "ticks": ""
           }
          },
          "title": {
           "x": 0.05
          },
          "xaxis": {
           "automargin": true,
           "gridcolor": "white",
           "linecolor": "white",
           "ticks": "",
           "title": {
            "standoff": 15
           },
           "zerolinecolor": "white",
           "zerolinewidth": 2
          },
          "yaxis": {
           "automargin": true,
           "gridcolor": "white",
           "linecolor": "white",
           "ticks": "",
           "title": {
            "standoff": 15
           },
           "zerolinecolor": "white",
           "zerolinewidth": 2
          }
         }
        },
        "title": {
         "text": "Values in each Sentiment"
        },
        "xaxis": {
         "title": {
          "text": "Sentiment"
         }
        },
        "yaxis": {
         "title": {
          "text": "Values"
         }
        }
       }
      }
     },
     "metadata": {},
     "output_type": "display_data"
    }
   ],
   "source": [
    "fig = go.Figure([go.Bar(x=y.value_counts().index, y=y.value_counts().tolist())])\n",
    "fig.update_layout(\n",
    "    title=\"Values in each Sentiment\",\n",
    "    xaxis_title=\"Sentiment\",\n",
    "    yaxis_title=\"Values\")\n",
    "fig.show()"
   ]
  },
  {
   "cell_type": "code",
   "execution_count": 132,
   "metadata": {},
   "outputs": [
    {
     "name": "stdout",
     "output_type": "stream",
     "text": [
      "(6392, 20000) (6392,)\n",
      "(1599, 20000) (1599,)\n"
     ]
    }
   ],
   "source": [
    "SEED=123\n",
    "X_train,X_test,y_train,y_test=train_test_split(X, y, test_size=0.2, random_state=SEED, stratify=y)\n",
    "print(X_train.shape, y_train.shape)\n",
    "print(X_test.shape, y_test.shape)"
   ]
  },
  {
   "cell_type": "code",
   "execution_count": 133,
   "metadata": {},
   "outputs": [
    {
     "name": "stdout",
     "output_type": "stream",
     "text": [
      "CPU times: total: 6.61 s\n",
      "Wall time: 7.65 s\n",
      "\n",
      "Training Accuracy score: 0.9504067584480601\n",
      "Testing Accuracy score: 0.7848655409631019\n"
     ]
    }
   ],
   "source": [
    "gnb = GaussianNB() \n",
    "%time gnb.fit(X_train, y_train)\n",
    "\n",
    "y_pred_train = gnb.predict(X_train)\n",
    "y_pred_test = gnb.predict(X_test)\n",
    "print(\"\\nTraining Accuracy score:\",accuracy_score(y_train, y_pred_train))\n",
    "print(\"Testing Accuracy score:\",accuracy_score(y_test, y_pred_test))"
   ]
  },
  {
   "cell_type": "code",
   "execution_count": 134,
   "metadata": {},
   "outputs": [
    {
     "name": "stdout",
     "output_type": "stream",
     "text": [
      "              precision    recall  f1-score   support\n",
      "\n",
      "not relevant       0.84      0.92      0.88      1315\n",
      "    relevant       0.31      0.18      0.23       284\n",
      "\n",
      "    accuracy                           0.78      1599\n",
      "   macro avg       0.57      0.55      0.55      1599\n",
      "weighted avg       0.74      0.78      0.76      1599\n",
      "\n"
     ]
    }
   ],
   "source": [
    "print(classification_report(y_test, y_pred_test, target_names=['not relevant', 'relevant']))"
   ]
  },
  {
   "cell_type": "code",
   "execution_count": 135,
   "metadata": {},
   "outputs": [
    {
     "data": {
      "image/png": "[encoded data removed]",
      "text/plain": [
       "<Figure size 600x600 with 2 Axes>"
      ]
     },
     "metadata": {},
     "output_type": "display_data"
    }
   ],
   "source": [
    "cm = confusion_matrix(y_test, y_pred_test)\n",
    "# print('Confusion matrix\\n', cm)\n",
    "\n",
    "cm_matrix = pd.DataFrame(data=cm, columns=['Actual Positive', 'Actual Negative'], \n",
    "                        index=['Predict Positive', 'Predict Negative'])\n",
    "sns.heatmap(cm_matrix, annot=True, fmt='d', cmap='YlGnBu')\n",
    "plt.show()"
   ]
  },
  {
   "cell_type": "code",
   "execution_count": 136,
   "metadata": {},
   "outputs": [
    {
     "name": "stdout",
     "output_type": "stream",
     "text": [
      "Count Vectorization Shape: (6392, 20000) (6392,)\n",
      "\n",
      "Count Vectorization Training Accuracy score: 0.9504067584480601\n",
      "Count Vectorization Testing Accuracy score: 0.7854909318323953\n"
     ]
    }
   ],
   "source": [
    "# from sklearn.feature_extraction.text import CountVectorizer\n",
    "# from sklearn.model_selection import train_test_split\n",
    "# from sklearn.metrics import accuracy_score\n",
    "# from sklearn.naive_bayes import GaussianNB\n",
    "\n",
    "# Assuming df is your DataFrame containing 'text' and 'label' columns\n",
    "docs = list(df['text'])\n",
    "y =df['relevance']\n",
    "\n",
    "# Initialize CountVectorizer\n",
    "count_vectorizer = CountVectorizer(max_features=20000)\n",
    "\n",
    "# Fit and transform the data\n",
    "X_count = count_vectorizer.fit_transform(docs)\n",
    "\n",
    "# Convert the sparse matrix to dense array for visualization\n",
    "X_count_array = X_count.toarray()\n",
    "\n",
    "# Splitting data into train and test sets\n",
    "SEED = 123\n",
    "X_train, X_test, y_train, y_test = train_test_split(X_count_array, y, test_size=0.2, random_state=SEED, stratify=y)\n",
    "print(\"Count Vectorization Shape:\", X_train.shape, y_train.shape)\n",
    "\n",
    "# Gaussian Naive Bayes Classifier\n",
    "gnb = GaussianNB() \n",
    "\n",
    "# Fitting and evaluating the model with Count Vectorization\n",
    "gnb.fit(X_train, y_train)\n",
    "y_pred_train = gnb.predict(X_train)\n",
    "y_pred_test = gnb.predict(X_test)\n",
    "print(\"\\nCount Vectorization Training Accuracy score:\", accuracy_score(y_train, y_pred_train))\n",
    "print(\"Count Vectorization Testing Accuracy score:\", accuracy_score(y_test, y_pred_test))\n"
   ]
  },
  {
   "cell_type": "code",
   "execution_count": 137,
   "metadata": {},
   "outputs": [
    {
     "data": {
      "image/png": "[encoded data removed]",
      "text/plain": [
       "<Figure size 600x600 with 2 Axes>"
      ]
     },
     "metadata": {},
     "output_type": "display_data"
    }
   ],
   "source": [
    "cm = confusion_matrix(y_test, y_pred_test)\n",
    "# print('Confusion matrix\\n', cm)\n",
    "\n",
    "cm_matrix = pd.DataFrame(data=cm, columns=['Actual Positive', 'Actual Negative'], \n",
    "                        index=['Predict Positive', 'Predict Negative'])\n",
    "sns.heatmap(cm_matrix, annot=True, fmt='d', cmap='YlGnBu')\n",
    "plt.show()"
   ]
  },
  {
   "cell_type": "code",
   "execution_count": 138,
   "metadata": {},
   "outputs": [
    {
     "name": "stdout",
     "output_type": "stream",
     "text": [
      "Hashing Vectorization Shape: (6392, 20000) (6392,)\n",
      "\n",
      "Hashing Vectorization Training Accuracy score: 0.9272528160200251\n",
      "Hashing Vectorization Testing Accuracy score: 0.7773608505315822\n"
     ]
    }
   ],
   "source": [
    "# Assuming df is your DataFrame containing 'text' and 'label' columns\n",
    "docs = list(df['text'])\n",
    "y = df['relevance']\n",
    "\n",
    "# Initialize HashingVectorizer\n",
    "hashing_vectorizer = HashingVectorizer(n_features=20000)\n",
    "\n",
    "# Transform the data\n",
    "X_hashing = hashing_vectorizer.fit_transform(docs).toarray()  # Convert to dense array\n",
    "\n",
    "# Splitting data into train and test sets\n",
    "SEED = 123\n",
    "X_train, X_test, y_train, y_test = train_test_split(X_hashing, y, test_size=0.2, random_state=SEED, stratify=y)\n",
    "print(\"Hashing Vectorization Shape:\", X_train.shape, y_train.shape)\n",
    "\n",
    "# Gaussian Naive Bayes Classifier\n",
    "gnb = GaussianNB() \n",
    "\n",
    "# Fitting and evaluating the model with Hashing Vectorization\n",
    "gnb.fit(X_train, y_train)\n",
    "y_pred_train = gnb.predict(X_train)\n",
    "y_pred_test = gnb.predict(X_test)\n",
    "print(\"\\nHashing Vectorization Training Accuracy score:\", accuracy_score(y_train, y_pred_train))\n",
    "print(\"Hashing Vectorization Testing Accuracy score:\", accuracy_score(y_test, y_pred_test))\n"
   ]
  },
  {
   "cell_type": "code",
   "execution_count": 139,
   "metadata": {},
   "outputs": [
    {
     "data": {
      "image/png": "[encoded data removed]",
      "text/plain": [
       "<Figure size 600x600 with 2 Axes>"
      ]
     },
     "metadata": {},
     "output_type": "display_data"
    }
   ],
   "source": [
    "cm = confusion_matrix(y_test, y_pred_test)\n",
    "# print('Confusion matrix\\n', cm)\n",
    "\n",
    "cm_matrix = pd.DataFrame(data=cm, columns=['Actual Positive', 'Actual Negative'], \n",
    "                        index=['Predict Positive', 'Predict Negative'])\n",
    "sns.heatmap(cm_matrix, annot=True, fmt='d', cmap='YlGnBu')\n",
    "plt.show()"
   ]
  },
  {
   "cell_type": "code",
   "execution_count": null,
   "metadata": {},
   "outputs": [],
   "source": []
  }
 ],
 "metadata": {
  "kernelspec": {
   "display_name": "Python 3",
   "language": "python",
   "name": "python3"
  },
  "language_info": {
   "codemirror_mode": {
    "name": "ipython",
    "version": 3
   },
   "file_extension": ".py",
   "mimetype": "text/x-python",
   "name": "python",
   "nbconvert_exporter": "python",
   "pygments_lexer": "ipython3",
   "version": "3.12.0"
  }
 },
 "nbformat": 4,
 "nbformat_minor": 2
}
